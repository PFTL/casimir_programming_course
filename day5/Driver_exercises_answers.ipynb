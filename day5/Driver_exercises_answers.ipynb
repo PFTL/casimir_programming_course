{
 "cells": [
  {
   "cell_type": "markdown",
   "metadata": {},
   "source": [
    "# TCP/IP\n",
    "In this exercise set, a virtual instrument is made available via the TCP/IP protocol.\n",
    "In order to communicate with this instrument it is not necessary to know every detail of this protocol as there is a python package available to handle the details for you. To get an idea of the TCP/IP protocol, you can take a look at this page:\n",
    "https://en.wikipedia.org/wiki/Internet_protocol_suite\n",
    "\n",
    "The important thing for this exercise set is to know how to communicate via TCP/IP using a python library.\n",
    "We will be using the socket library, see:\n",
    "https://docs.python.org/3/library/socket.html\n",
    "\n",
    "This library can be imported into python with"
   ]
  },
  {
   "cell_type": "code",
   "execution_count": null,
   "metadata": {},
   "outputs": [],
   "source": [
    "import socket"
   ]
  },
  {
   "cell_type": "markdown",
   "metadata": {},
   "source": [
    "To communicate with a target machine, you will need to know its IP address and the port number.\n",
    "We have set up your python containers to run the measurement server as well, hence the adress will be\n",
    "\n",
    "'localhost' \n",
    "\n",
    "or \n",
    "\n",
    "'127.0.0.1'\n",
    "\n",
    "The port number for the multimeter is \n",
    "\n",
    "5000\n",
    "\n",
    "You can instantiate a socket object with"
   ]
  },
  {
   "cell_type": "code",
   "execution_count": null,
   "metadata": {},
   "outputs": [],
   "source": [
    "socket.socket(socket.AF_INET, socket.SOCK_STREAM)"
   ]
  },
  {
   "cell_type": "markdown",
   "metadata": {},
   "source": [
    "As a first exercise, you will need to send a single command to the multimeter server. You can look up the appropriate commands on the website above, or by using google.\n",
    "Take care that you can only send and receive 'bytes' objects. You can from and to strings by using '.encode()' and '.decode()' resepctively.\n",
    "\n",
    "For your convenience, the commands that you can send are given below:\n",
    "\n",
    "SENSe:DATA? - read the voltage over the resistor\n",
    "\n",
    "SOUR:CURR:LEV? - read the current being send through the resistor\n",
    "\n",
    "SOUR:CURR:LEV # - set the current through the resistor"
   ]
  },
  {
   "cell_type": "markdown",
   "metadata": {},
   "source": [
    "## exercise 1\n",
    "1. Open a connection to the instrument\n",
    "2. Send a command to the instrument to read the voltage\n",
    "3. Print the result (do not worry about the result yet)\n",
    "4. Close the connection to the instrument"
   ]
  },
  {
   "cell_type": "code",
   "execution_count": null,
   "metadata": {},
   "outputs": [],
   "source": [
    "import socket\n",
    "address = '127.0.0.1'\n",
    "port = 5000\n",
    "sock = socket.socket(socket.AF_INET, socket.SOCK_STREAM)\n",
    "sock.connect((address, port))\n",
    "sock.send(b'SENS:DATA?')\n",
    "print(sock.recv(1024))\n",
    "sock.close()"
   ]
  },
  {
   "cell_type": "markdown",
   "metadata": {},
   "source": [
    "# Making a driver\n",
    "In order to making something useful, you will need to make functions to perform specific tasks on your multimeter.\n",
    "Take a collegue in mind and realise that this person does not want to know about TCP/IP, or about the specific commands that he/she has to send to the device. This person will just want to call some specific python functions.\n",
    "\n",
    "It is your task, as writer of the driver, to make this possible by writing these functions and making sure that they will be as stable as possible"
   ]
  },
  {
   "cell_type": "markdown",
   "metadata": {},
   "source": [
    "## exercise 2\n",
    "1. Write separate functions to set the current and read the voltage\n",
    "2. Change the read function to return a number instead of a string\n",
    "3. Measure the value of your resistor"
   ]
  },
  {
   "cell_type": "code",
   "execution_count": null,
   "metadata": {},
   "outputs": [],
   "source": [
    "import socket\n",
    "address = '127.0.0.1'\n",
    "port = 5000\n",
    "def ask(cmd):\n",
    "    sock = socket.socket(socket.AF_INET, socket.SOCK_STREAM)\n",
    "    sock.connect((address, port))\n",
    "    sock.send(cmd)\n",
    "    r = sock.recv(1024)\n",
    "    sock.close()\n",
    "    return r\n",
    "\n",
    "def get_voltage():\n",
    "    r = ask(b'SENS:DATA?').decode()\n",
    "    v = float(r.split(' ')[1][:-1])\n",
    "    return v\n",
    "\n",
    "def set_current(i):\n",
    "    return ask(b''+str(i).encode())\n",
    "\n",
    "current = 0.5\n",
    "print(set_current(current))\n",
    "volt = get_voltage()\n",
    "print(volt / current)"
   ]
  },
  {
   "cell_type": "markdown",
   "metadata": {},
   "source": [
    "# Making everything more stable\n",
    "As you may have noticed, the instrument can return things that you did not expect. In this exercise you need the check the output of the multimeter, to make sure that you can take many consecutive measurement points without any gaps in the data.\n",
    "\n",
    "Note that you must make your functions stable against faults in the measurement device. Do not try to solve this problem in your data acquisition loop."
   ]
  },
  {
   "cell_type": "markdown",
   "metadata": {},
   "source": [
    "## exercise 3\n",
    "1. Add error handling to your functions\n",
    "2. Average the results to reduce the noise\n",
    "3. Make a graph of voltage vs. current"
   ]
  },
  {
   "cell_type": "code",
   "execution_count": null,
   "metadata": {},
   "outputs": [],
   "source": [
    "import socket\n",
    "import time\n",
    "import numpy as np\n",
    "import matplotlib.pyplot as plt\n",
    "address = '127.0.0.1'\n",
    "port = 5000\n",
    "def ask(cmd):\n",
    "    r = b''\n",
    "    sock = socket.socket(socket.AF_INET, socket.SOCK_STREAM)\n",
    "    try:\n",
    "        \n",
    "        sock.settimeout(1)\n",
    "        sock.connect((address, port))\n",
    "        sock.send(cmd)\n",
    "        r = sock.recv(1024)\n",
    "    except:\n",
    "        print('Connection problems')\n",
    "    finally:\n",
    "        sock.close()\n",
    "        \n",
    "    return r\n",
    "\n",
    "def get_voltage():\n",
    "    for i in range(5):\n",
    "        r = ask(b'SENS:DATA?').decode()\n",
    "        if r.startswith('SENS'):\n",
    "            break\n",
    "        time.sleep(i)\n",
    "    if not r.startswith('SENS'):\n",
    "        print('Getting voltage failed')\n",
    "        return 0\n",
    "    v = 0\n",
    "    try:\n",
    "        v = float(r.split(' ')[1][:-1])\n",
    "    except:\n",
    "        print('Decoding voltage failed')\n",
    "        return 0\n",
    "    return v\n",
    "\n",
    "def set_current(I):\n",
    "    for i in range(5):\n",
    "        r = ask(('SOUR:CURR:LEV'+str(I)).encode()).decode()\n",
    "        if r.startswith('SOUR'):\n",
    "            break\n",
    "        time.sleep(i)\n",
    "    if not r.startswith('SOUR'):\n",
    "        print('Setting current failed')\n",
    "        return 0\n",
    "    return r\n",
    "\n",
    "vs = []\n",
    "avg = 10\n",
    "Is = np.linspace(-0.5,0.5,100)\n",
    "for I in Is:\n",
    "    set_current(I)\n",
    "    vss = []\n",
    "    for i in range(avg):\n",
    "        vss.append(get_voltage())\n",
    "    vs.append(np.mean(vss))\n",
    "\n",
    "plt.plot(Is, vs)\n",
    "plt.show()"
   ]
  },
  {
   "cell_type": "markdown",
   "metadata": {},
   "source": [
    "# Making your driver into a driver\n",
    "A driver is often a bit more than a collection of functions.\n",
    "In most cases, instruments have a state with them and this is one of the cases where it is useful to use an object to represent your instrument.\n",
    "\n",
    "By writing a class for your instrument, you can also have multiple instruments at the same time. By having all instruments in different (instances of) classes, it becomes easier to address every instrument individually.\n",
    "\n",
    "In the next exercise you will connect to two different instruments, but you will only have to write a single class to do it. By making two instances of this class, you will be able to address the two multimeters in turn."
   ]
  },
  {
   "cell_type": "markdown",
   "metadata": {},
   "source": [
    "## exercise 4\n",
    "(more advanced)\n",
    "\n",
    "1. Turn all this code into a class.\n",
    "2. create two instances of this class, and try to communicate to both your own multimeter, and the multimeter of your neighbour\n",
    "\n",
    "   hint: You will need to know the ip address of your neighbour. You can find this by typing \"hostname -I\" in your terminal"
   ]
  },
  {
   "cell_type": "code",
   "execution_count": null,
   "metadata": {},
   "outputs": [],
   "source": [
    "class multimeter:\n",
    "    def __init__(self, adress, port):\n",
    "        self.address = address\n",
    "        self.port = port\n",
    "    \n",
    "    def _ask(self, cmd):\n",
    "        r = b''\n",
    "        sock = socket.socket(socket.AF_INET, socket.SOCK_STREAM)\n",
    "        try:\n",
    "\n",
    "            sock.settimeout(1)\n",
    "            sock.connect((self.address, self.port))\n",
    "            sock.send(cmd)\n",
    "            r = sock.recv(1024)\n",
    "        except:\n",
    "            print('Connection problems')\n",
    "        finally:\n",
    "            sock.close()\n",
    "\n",
    "        return r\n",
    "    \n",
    "    def get_voltage(self):\n",
    "        for i in range(5):\n",
    "            r = self._ask(b'SENS:DATA?').decode()\n",
    "            if r.startswith('SENS'):\n",
    "                break\n",
    "            time.sleep(i)\n",
    "        if not r.startswith('SENS'):\n",
    "            print('Getting voltage failed')\n",
    "            return 0\n",
    "        v = 0\n",
    "        try:\n",
    "            v = float(r.split(' ')[1][:-1])\n",
    "        except:\n",
    "            print('Decoding voltage failed')\n",
    "            return 0\n",
    "        return v\n",
    "\n",
    "    def set_current(self, I):\n",
    "        for i in range(5):\n",
    "            r = self._ask(('SOUR:CURR:LEV'+str(I)).encode()).decode()\n",
    "            if r.startswith('SOUR'):\n",
    "                break\n",
    "            time.sleep(i)\n",
    "        if not r.startswith('SOUR'):\n",
    "            print('Setting current failed')\n",
    "            return 0\n",
    "        return r"
   ]
  },
  {
   "cell_type": "code",
   "execution_count": null,
   "metadata": {},
   "outputs": [],
   "source": [
    "m = multimeter('127.0.0.1', 5000)\n",
    "m.set_current(0.25)\n",
    "print(m.get_voltage())"
   ]
  },
  {
   "cell_type": "markdown",
   "metadata": {},
   "source": [
    "# A more complicated instrument\n",
    "We also have made a classical simulation of a quantum computer available to you. If you find this interesting you might find it useful to try to communicate with this instrument.\n",
    "the address is again your local host (127.0.0.1) and the port number is 5001\n",
    "\n",
    "The quantum computer will have 4 qubits for you to play with.\n",
    "If you want the execute Shors algorithm to factor 15, you need 7 qubits, we can make those available to you if you want.\n",
    "\n",
    "The list of commands that you can execute on the quantum computer is\n",
    "\n",
    "OP:[X90|Y90|X45|y45]:Q[n] (Rotate around X or Y, 90 or 45 degrees)\n",
    "\n",
    "OP:CNOT:Qn:Qm (Perform a CNOT gate)\n",
    "\n",
    "OP:ZERO (reset the quantum computer)\n",
    "\n",
    "OP:MEASURE (obtain a classical readout of the quantum computer, this will destroy the state!)\n",
    "\n",
    "Here, m,n are the indices of your qubits (starting from 0)\n"
   ]
  },
  {
   "cell_type": "markdown",
   "metadata": {},
   "source": [
    "## exercise 5\n",
    "(more advanced)\n",
    "\n",
    "Use your knownledge aquired today to control a quantum computer. This exercise can be combined with the QASM advanced project. Try to read in a QASM file and execute the corresponding algorithm on this quantum computer."
   ]
  },
  {
   "cell_type": "code",
   "execution_count": null,
   "metadata": {},
   "outputs": [],
   "source": []
  }
 ],
 "metadata": {
  "anaconda-cloud": {},
  "kernelspec": {
   "display_name": "Python 3",
   "language": "python",
   "name": "python3"
  },
  "language_info": {
   "codemirror_mode": {
    "name": "ipython",
    "version": 3
   },
   "file_extension": ".py",
   "mimetype": "text/x-python",
   "name": "python",
   "nbconvert_exporter": "python",
   "pygments_lexer": "ipython3",
   "version": "3.6.3"
  }
 },
 "nbformat": 4,
 "nbformat_minor": 1
}
