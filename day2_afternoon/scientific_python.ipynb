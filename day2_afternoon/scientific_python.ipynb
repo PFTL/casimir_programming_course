{
 "cells": [
  {
   "cell_type": "markdown",
   "metadata": {},
   "source": [
    "# Libraries and toolboxes for python"
   ]
  },
  {
   "cell_type": "markdown",
   "metadata": {},
   "source": [
    "At the start of the week we had an introduction to the Python programming language and learned some basic concepts such as:\n",
    "\n",
    "+ assigning and using **variables** to store values\n",
    "+ basic **types** (numbers, strings, lists, dictionaries) for representing data\n",
    "+ **loops** (`for`) for repeating computational operations\n",
    "+ **conditionals** (`if`, `else`) for branching program execution\n",
    "+ **functions** (`def`) for organising code into functional blocks\n",
    "\n",
    "While these components will form the fundamentals of any program that you will write, they are present in\n",
    "essentially all modern programming languages.\n",
    "\n",
    "One of the big advantages of Python is that there are a very large number of so-called **packages**, which add extra\n",
    "functionality to the language. Python already has a very capable and complete [standard library](https://docs.python.org/3/library/), however there are also many 3rd party packages that can handle diverse topics:\n",
    "\n",
    "+ high-performance numerical *calculations* ([`numpy`](http://numpy.org), [`scipy`](http://scipy.org), ...)\n",
    "+ *producing* publication-quality plots ([`matplotlib`](http://matplotlib.org), [`seaborn`](https://seaborn.github.io/), [`bokeh`](http://bokeh.pydata.org/en/latest/), ...)\n",
    "+ *creating* interactive data vizualisations ([`holoviews`](http://holoviews.org), ...)\n",
    "+ *analyzing and manipulating* images ([`scikit-image`](http://scikit-image.org/), [`PIL`](http://www.pythonware.com/products/pil/), [`opencv`](http://opencv.org/), ...)\n",
    "+ *executing* machine learning algorithms ([`scikit-learn`](scikit-learn.org), [`tensorflow`](https://www.tensorflow.org/), [`theano`](http://deeplearning.net/software/theano/),...)\n",
    "+ *data analysis* ([`pandas`](http://pandas.pydata.org))\n",
    "+ *biology* ([`biopython`](http://biopython.org/DIST/docs/tutorial/Tutorial.html))\n",
    "+ *interacting* with websites ([`requests`](http://docs.python-requests.org/en/master/)), google services ([`google-api-python-client`](https://developers.google.com/api-client-library/python/apis/)) etc.\n",
    "\n",
    "and much, much more! Remember, google is your friend, and  -- for scientific applications -- you can try to find a [`scikit`](http://scikits.appspot.com) package that meets your needs"
   ]
  },
  {
   "cell_type": "markdown",
   "metadata": {},
   "source": [
    "<div class=\"alert alert-info\" data-toggle=\"collapse\" data-target=\"#note1\">\n",
    "<p>**Note on nomenclature** <i class=\"pull-right fa fa-chevron-down\"></i></p>\n",
    "<div id=\"note1\" class=\"collapse\">\n",
    "<p>\n",
    "Throughout the course (and on the web) you will come accross the terms `package` and `module` to refer to these extensions  to the language.\n",
    "</p>\n",
    "<p>\n",
    "In Python the terms [`package`](https://docs.python.org/3/tutorial/modules.html#packages) and [`module`](https://docs.python.org/3/tutorial/modules.html) technically refer to different things, however they can also be used\n",
    "as general terms (synonymous with \"library\") to mean \"extensions that provide additional functionality\".\n",
    "</p>\n",
    "\n",
    "</div>\n",
    "</div>"
   ]
  },
  {
   "cell_type": "markdown",
   "metadata": {},
   "source": [
    "---"
   ]
  },
  {
   "cell_type": "markdown",
   "metadata": {},
   "source": [
    "# Learning Goals"
   ]
  },
  {
   "cell_type": "markdown",
   "metadata": {},
   "source": [
    "There are two main aims for this part of the course:\n",
    "\n",
    "#### using the three main libraries for scientific computing in Python (`numpy`, `scipy`, and `matplotlib`) to perform simple tasks.\n",
    "These three packages are the bread and butter of scientific Python. Many other packages (especially for plotting)\n",
    "are based on these, and a solid understanding of how to use them will pay dividends later.\n",
    "\n",
    "#### searching for, installing, and using libraries adapted to a particular problem domain\n",
    "Often you will have a problem to solve and no idea initially as to how to go about solving it.\n",
    "Luckily, a lot of the time the work has already been done for you. This may take the form of a ready-to-use package that\n",
    "you can install and use, or it may be something more rudimentary like a code snippet."
   ]
  },
  {
   "cell_type": "markdown",
   "metadata": {},
   "source": [
    "---"
   ]
  },
  {
   "cell_type": "markdown",
   "metadata": {},
   "source": [
    "# `numpy`: efficient numeric arrays"
   ]
  },
  {
   "cell_type": "markdown",
   "metadata": {},
   "source": [
    "### Why do we need arrays anyway?"
   ]
  },
  {
   "cell_type": "markdown",
   "metadata": {},
   "source": [
    "We already saw that Python has a built-in list datatype that can be used to hold collections of values. Often we will want to deal with arrays of numbers (integers, reals, or complex). While in principle we could make \"vectors\" of numbers just as lists:"
   ]
  },
  {
   "cell_type": "code",
   "execution_count": null,
   "metadata": {
    "collapsed": true
   },
   "outputs": [],
   "source": [
    "# using a Python list as a vector -- bad idea\n",
    "vector = [1, 2, 3]"
   ]
  },
  {
   "cell_type": "markdown",
   "metadata": {},
   "source": [
    "and \"matrices\" as lists of lists of numbers:\n"
   ]
  },
  {
   "cell_type": "code",
   "execution_count": null,
   "metadata": {
    "collapsed": true
   },
   "outputs": [],
   "source": [
    "# using a list of lists as a matrix -- bad idea\n",
    "matrix = [[1, 2],\n",
    "          [3, 4]]"
   ]
  },
  {
   "cell_type": "markdown",
   "metadata": {},
   "source": [
    "in practice this is not very well suited to performing common operations one would expect to do on matrices and vectors (such as adding them together, or multiplying them).\n",
    "\n",
    "One reason is that, in Python, adding two lists together does not do vector addition, but actually appends the second list to the first, like so:\n"
   ]
  },
  {
   "cell_type": "code",
   "execution_count": null,
   "metadata": {
    "collapsed": false
   },
   "outputs": [],
   "source": [
    "vector_a = [1, 2, 3]\n",
    "vector_b = [4, 5, 6]\n",
    "print(vector_a + vector_b)"
   ]
  },
  {
   "cell_type": "markdown",
   "metadata": {},
   "source": [
    "Similarly multiplication by an integer n actually appends n copies of the original list together:\n"
   ]
  },
  {
   "cell_type": "code",
   "execution_count": null,
   "metadata": {
    "collapsed": false
   },
   "outputs": [],
   "source": [
    "print(vector_a * 3)"
   ]
  },
  {
   "cell_type": "markdown",
   "metadata": {},
   "source": [
    "Another reason to avoid using lists is efficiency. If we manually tried to do vector addition with the two lists:"
   ]
  },
  {
   "cell_type": "code",
   "execution_count": null,
   "metadata": {
    "collapsed": true
   },
   "outputs": [],
   "source": [
    "N = int(1E6)\n",
    "vector_a = list(range(N))  # 0 ... N-1\n",
    "vector_b = list(range(N, 2 * N))  # N ... 2N - 1\n",
    "vector_c = [None] * N  # create a list with N entries, each one equal to `None`\n",
    "\n",
    "# naive vector addition using lists and explicit loops: slow and difficult to read!\n",
    "for i in range(len(vector_a)):\n",
    "    vector_c[i] = vector_a[i] + vector_b[i]"
   ]
  },
  {
   "cell_type": "markdown",
   "metadata": {},
   "source": [
    "this will (as we shall see) be many times less efficient than using native arrays with numpy.\n"
   ]
  },
  {
   "cell_type": "markdown",
   "metadata": {},
   "source": [
    "### Importing numpy"
   ]
  },
  {
   "cell_type": "markdown",
   "metadata": {},
   "source": [
    "We already have a number of packages installed on our system, but to use a particular package in our Python program we must first import it:"
   ]
  },
  {
   "cell_type": "code",
   "execution_count": null,
   "metadata": {
    "collapsed": true
   },
   "outputs": [],
   "source": [
    "import numpy"
   ]
  },
  {
   "cell_type": "markdown",
   "metadata": {},
   "source": [
    "we may now use the name `numpy` in our program to access the functionality\n",
    "provided by the Numpy package.\n",
    "\n",
    "In order to save some typing we may import the package and assign\n",
    "it to a shorter name instead. We will use \"`np`\" (and you should too):"
   ]
  },
  {
   "cell_type": "code",
   "execution_count": null,
   "metadata": {
    "collapsed": true
   },
   "outputs": [],
   "source": [
    "import numpy as np"
   ]
  },
  {
   "cell_type": "markdown",
   "metadata": {},
   "source": [
    "### Creating arrays"
   ]
  },
  {
   "cell_type": "markdown",
   "metadata": {},
   "source": [
    "Now we can use Numpy to create arrays of various dimension and rank:"
   ]
  },
  {
   "cell_type": "code",
   "execution_count": null,
   "metadata": {
    "collapsed": false
   },
   "outputs": [],
   "source": [
    "# 1D array (vector)\n",
    "a = np.array([1, 2, 3, 4])\n",
    "print(\"vector of size:\", a.shape)\n",
    "\n",
    "# 2D array (matrix)\n",
    "b = np.array([[1, 3],\n",
    "              [2, 4]])\n",
    "print(\"matrix of size:\", b.shape)"
   ]
  },
  {
   "cell_type": "markdown",
   "metadata": {},
   "source": [
    "In the above we created a numpy array from a `list`. Numpy also has functions for creating arrays directly, without having to first create a list:"
   ]
  },
  {
   "cell_type": "code",
   "execution_count": null,
   "metadata": {
    "collapsed": false
   },
   "outputs": [],
   "source": [
    "# 1D array of zeros, each one is a a real number (float)\n",
    "a = np.zeros((3,), dtype=float)\n",
    "print(\"array of shape:\", a.shape, \"and type:\", a.dtype)\n",
    "\n",
    "# 2D array of ones, each one is an integer (int)\n",
    "b = np.ones((3, 2), dtype=int)\n",
    "print(\"array of shape:\", b.shape, \"and type:\", b.dtype)\n",
    "\n",
    "# 3D array of ones, each one is a complex number (complex)\n",
    "c = np.ones((3, 2, 3), dtype=complex)\n",
    "print(\"array of shape:\", c.shape, \"and type:\", c.dtype)"
   ]
  },
  {
   "cell_type": "markdown",
   "metadata": {},
   "source": [
    "The above example illustrates two key ways in which Numpy arrays differ from lists:\n",
    "\n",
    "+ Numpy arrays have a fixed *size*\n",
    "+ Numpy arrays have a fixed *type*\n",
    "\n",
    "In this respect they are akin to arrays in other languages such as C."
   ]
  },
  {
   "cell_type": "markdown",
   "metadata": {},
   "source": [
    "Numpy even has functions akin to the Python built-in `range`, except that they return Numpy arrays:"
   ]
  },
  {
   "cell_type": "code",
   "execution_count": null,
   "metadata": {
    "collapsed": false
   },
   "outputs": [],
   "source": [
    "# step size 0.1, does not include upper bound (1)\n",
    "a = np.arange(0, 1, 0.1)\n",
    "print('arange:', a)\n",
    "\n",
    "# 10 linearly spaced samples, includes lower and upper bounds\n",
    "b = np.linspace(0, 1, 10)\n",
    "print('linspace:', b)"
   ]
  },
  {
   "cell_type": "markdown",
   "metadata": {},
   "source": [
    "### Extracting array elements"
   ]
  },
  {
   "cell_type": "markdown",
   "metadata": {},
   "source": [
    "We can access elements in arrays in the same manner as with `list`s:"
   ]
  },
  {
   "cell_type": "code",
   "execution_count": null,
   "metadata": {
    "collapsed": false
   },
   "outputs": [],
   "source": [
    "a = np.arange(10)\n",
    "\n",
    "print('first element:', a[0], ',last element:', a[-1])\n",
    "\n",
    "# slicing into the array\n",
    "print('first 3 elements:', a[0:3])  # slice implicitly starts from 0, so we could ommit the 0\n",
    "print('last 3 elements:', a[-3:])  # slice implicitly stops at the end\n",
    "print('even elements:', a[::2])  # step == 2, take every other element\n",
    "print('odd elements:', a[1::2])  # step == 2, start == 1, take every other element, starting from the second one"
   ]
  },
  {
   "cell_type": "markdown",
   "metadata": {},
   "source": [
    "<div class=\"alert alert-warning\" data-toggle=\"collapse\" data-target=\"#note-indexing\">\n",
    "<p>**Warning about indexing** <i class=\"pull-right fa fa-chevron-down\"></i></p>\n",
    "<div id=\"note-indexing\" class=\"\">\n",
    "<p>\n",
    "Remember that in Python the first element in a container has index `0`. This is the same as\n",
    "in C, but differs from Matlab and Fortran, where indexing starts from `1` instead.\n",
    "</p><p>\n",
    "Similarly, the last element has index `N-1` in Python (although, recall that we may use *negative* indices to index *from the end*, so the last element also has index `-1`).\n",
    "</p>\n",
    "</div>\n",
    "</div>"
   ]
  },
  {
   "cell_type": "markdown",
   "metadata": {},
   "source": [
    "we can access elements in arrays with rank > 1 in an equally intuitive way:"
   ]
  },
  {
   "cell_type": "code",
   "execution_count": null,
   "metadata": {
    "collapsed": false
   },
   "outputs": [],
   "source": [
    "b = np.array([[1, 2],\n",
    "              [3, 4]])\n",
    "print('first element:', b[0, 0], ',second element:', b[0, 1])\n",
    "print('first column:', b[:, 0])  # \":\" on its own means \"get all the elements\"\n",
    "print('first row:', b[0, :])"
   ]
  },
  {
   "cell_type": "markdown",
   "metadata": {},
   "source": [
    "**see also:** https://docs.scipy.org/doc/numpy/reference/arrays.indexing.html#basic-slicing-and-indexing"
   ]
  },
  {
   "cell_type": "markdown",
   "metadata": {},
   "source": [
    "We can also *reshape* arrays, as long as the underlying number of elements does not change:"
   ]
  },
  {
   "cell_type": "code",
   "execution_count": null,
   "metadata": {
    "collapsed": false
   },
   "outputs": [],
   "source": [
    "b = np.array([[1, 2],\n",
    "              [3, 4]])\n",
    "\n",
    "a = b.reshape((4,))"
   ]
  },
  {
   "cell_type": "markdown",
   "metadata": {},
   "source": [
    "be aware, however, that `a` and `b` now refer to *the same memory*:"
   ]
  },
  {
   "cell_type": "code",
   "execution_count": null,
   "metadata": {
    "collapsed": false
   },
   "outputs": [],
   "source": [
    "print(b)\n",
    "\n",
    "a[0] = 1000  # modify entry 0 of a\n",
    "\n",
    "print()\n",
    "print(b)  # a points to the same memory as b"
   ]
  },
  {
   "cell_type": "markdown",
   "metadata": {},
   "source": [
    "### Basic array algebra"
   ]
  },
  {
   "cell_type": "markdown",
   "metadata": {},
   "source": [
    "An advantage of using Numpy arrays is that they natively support common algebraic operations:"
   ]
  },
  {
   "cell_type": "code",
   "execution_count": null,
   "metadata": {
    "collapsed": false
   },
   "outputs": [],
   "source": [
    "a = np.arange(3)\n",
    "b = np.arange(3, 6)\n",
    "\n",
    "print('a + 2:', a + 2)  # element-wise addition\n",
    "print('a + b:', a + b)\n",
    "print('a * 3:', a * 3)  # element-wise multiplication\n",
    "print('a * b:', a * b)  # element-wise multiplication\n",
    "print('a.b:', a.dot(b))  # dot product\n",
    "\n",
    "M = np.array([[1, 2, 3],\n",
    "              [4, 5, 6],\n",
    "              [7, 8, 9]])\n",
    "\n",
    "print('M.a:', M.dot(a))  # matrix-vector multiply"
   ]
  },
  {
   "cell_type": "markdown",
   "metadata": {},
   "source": [
    "In addition, numpy has a number of functions that will act *element-wise* on the elements:"
   ]
  },
  {
   "cell_type": "code",
   "execution_count": null,
   "metadata": {
    "collapsed": false
   },
   "outputs": [],
   "source": [
    "a = np.arange(3)\n",
    "b = np.array([[1, 2, 3],\n",
    "              [4, 5, 6]])\n",
    "\n",
    "print('sin(a):', np.sin(a))\n",
    "print()\n",
    "print('exp(b):', np.exp(b))"
   ]
  },
  {
   "cell_type": "markdown",
   "metadata": {},
   "source": [
    "**see also**: https://docs.scipy.org/doc/numpy/reference/ufuncs.html#available-ufuncs"
   ]
  },
  {
   "cell_type": "markdown",
   "metadata": {},
   "source": [
    " <div class=\"alert alert-warning\" data-toggle=\"collapse\" data-target=\"#note2\" aria-expanded=\"true\">\n",
    "<p>**Warning about Numpy functions** <i class=\"pull-right fa fa-chevron-down\"></i></p>\n",
    "<div id=\"note2\" class=\"\" aria-expanded=\"true\">\n",
    "Numpy functions and algebraic operations act *element-wise*, that is, doing something\n",
    "like `M + 1` (where `M` is a matrix) will add `1` to each of the elements, rather\n",
    "than adding the identity matrix. Similarly, `np.exp(M)` will exponentiate all the components\n",
    "of `M`; it does *not* compute the matrix exponential.\n",
    "</div>\n",
    "</div>"
   ]
  },
  {
   "cell_type": "markdown",
   "metadata": {},
   "source": [
    "### Saving and loading data"
   ]
  },
  {
   "cell_type": "markdown",
   "metadata": {},
   "source": [
    "Numpy includes facilities for saving arrays to disk and loading them back in again:"
   ]
  },
  {
   "cell_type": "code",
   "execution_count": null,
   "metadata": {
    "collapsed": false
   },
   "outputs": [],
   "source": [
    "a = np.arange(0, 10)\n",
    "np.save('my_array.npy', a)\n",
    "\n",
    "b = np.load('my_array.npy')\n",
    "\n",
    "# check the arrays are equal\n",
    "print(np.all(a == b))  # np.all() needed, as a == b compares *element-wise*"
   ]
  },
  {
   "cell_type": "markdown",
   "metadata": {},
   "source": [
    "We can also save the array in a text format (rather than a binary one) so that we can easily\n",
    "parse the data using other tools, or inspect it manually with a text editor:"
   ]
  },
  {
   "cell_type": "code",
   "execution_count": null,
   "metadata": {
    "collapsed": false
   },
   "outputs": [],
   "source": [
    "np.savetxt('my_array.txt', a)\n",
    "b = np.loadtxt('my_array.txt')\n",
    "\n",
    "print(np.all(a == b))"
   ]
  },
  {
   "cell_type": "markdown",
   "metadata": {},
   "source": [
    "**see also**: https://docs.scipy.org/doc/numpy/reference/routines.io.html\n",
    "\n",
    "If you need to store and manipulate massive datasets that cannot fit into memory at once, consider looking at [h5py](http://www.h5py.org/)."
   ]
  },
  {
   "cell_type": "markdown",
   "metadata": {},
   "source": [
    "### A note on efficiency"
   ]
  },
  {
   "cell_type": "markdown",
   "metadata": {},
   "source": [
    "In addition to being more intuitive for manipulating numeric data, Numpy arrays are more efficient than using lists.\n",
    "\n",
    "let us be more concrete:"
   ]
  },
  {
   "cell_type": "code",
   "execution_count": null,
   "metadata": {
    "collapsed": false
   },
   "outputs": [],
   "source": [
    "N = int(1E6)\n",
    "list_a = list(range(N))\n",
    "list_b = [0] * N  # create a list with N entries, each one equal to `0`\n",
    "\n",
    "array_a = np.array(list_a)\n",
    "array_b = np.zeros_like(array_a)"
   ]
  },
  {
   "cell_type": "code",
   "execution_count": null,
   "metadata": {
    "collapsed": false
   },
   "outputs": [],
   "source": [
    "%%timeit\n",
    "\n",
    "# using lists\n",
    "for i in range(N):\n",
    "    list_b[i] = 2 * list_a[i] + 1"
   ]
  },
  {
   "cell_type": "code",
   "execution_count": null,
   "metadata": {
    "collapsed": false
   },
   "outputs": [],
   "source": [
    "%%timeit\n",
    "\n",
    "# using arrays in a naive way -- don't do this!\n",
    "for i in range(N):\n",
    "    array_b[i] = 2 * array_a[i] + 1"
   ]
  },
  {
   "cell_type": "code",
   "execution_count": null,
   "metadata": {
    "collapsed": false
   },
   "outputs": [],
   "source": [
    "%%timeit\n",
    "\n",
    "# using arrays properly\n",
    "array_b = 2 * array_a + 1"
   ]
  },
  {
   "cell_type": "markdown",
   "metadata": {},
   "source": [
    "If we use numpy arrays properly, we see a speedup of 40x compared with the naive list example.\n",
    "\n",
    "Note however that if we do the direct naive loop with Numpy arrays then\n",
    "the code actually runs *slower than the list example*.\n",
    "\n",
    "This should serve to illustrate that **explicitly looping over Numpy arrays is a bad idea**. If you find yourself doing this, stop and try to see if there is a more \"numpy\" way of expressing the operation."
   ]
  },
  {
   "cell_type": "markdown",
   "metadata": {},
   "source": [
    "## Advanced topics"
   ]
  },
  {
   "cell_type": "markdown",
   "metadata": {},
   "source": [
    "**Numpy internals** https://arxiv.org/pdf/1102.1523v1.pdf\n",
    "\n",
    "**Array broadcasting** https://docs.scipy.org/doc/numpy/user/basics.broadcasting.html\n",
    "\n",
    "**Fancy indexing** https://docs.scipy.org/doc/numpy/reference/arrays.indexing.html#advanced-indexing"
   ]
  },
  {
   "cell_type": "markdown",
   "metadata": {
    "collapsed": true
   },
   "source": [
    "## Exercises"
   ]
  },
  {
   "cell_type": "markdown",
   "metadata": {},
   "source": [
    "#### Vector operations\n",
    "+ make a 3-vector\n",
    "+ compute the $l^2$ norm of the vector\n",
    "+ find the minimum element of the vector"
   ]
  },
  {
   "cell_type": "code",
   "execution_count": null,
   "metadata": {
    "collapsed": false
   },
   "outputs": [],
   "source": []
  },
  {
   "cell_type": "markdown",
   "metadata": {},
   "source": [
    "#### Matrix operations\n",
    "+ make a matrix\n",
    "+ find the minimum of each column of the matrix\n",
    "+ sum over the rows of the matrix"
   ]
  },
  {
   "cell_type": "code",
   "execution_count": null,
   "metadata": {
    "collapsed": false
   },
   "outputs": [],
   "source": []
  },
  {
   "cell_type": "markdown",
   "metadata": {},
   "source": [
    "#### Matrix-vector operations\n",
    "+ make a 3-vector representing a position in cartesian coordinates\n",
    "+ make a matrix representing a rotation by 90 degrees anticlockwise about the z axis\n",
    "+ rotate the vector using `numpy.dot`"
   ]
  },
  {
   "cell_type": "code",
   "execution_count": null,
   "metadata": {
    "collapsed": false
   },
   "outputs": [],
   "source": []
  },
  {
   "cell_type": "markdown",
   "metadata": {},
   "source": [
    "#### Numerical integration\n",
    "\n",
    "(This exercise is a bit tougher.)\n",
    "\n",
    "The trapezium rule is a scheme for approximating an integral:\n",
    "\n",
    "$$\n",
    " \\int_a^b f(x)\\, dx \\approx \\frac{\\Delta x}{2}\\left[f(a) + f(b) + 2\\sum_{n=1}^{N-1} f(a + n\\Delta x)\\right] \\quad\\quad \\Delta x = \\frac{b - a}{N}\n",
    "$$\n",
    "\n",
    "Use Numpy operations to estimate the integral of $\\exp(-x^2)$ between -10 and 10 using 50 intervals  with the trapezium rule."
   ]
  },
  {
   "cell_type": "code",
   "execution_count": null,
   "metadata": {
    "collapsed": true
   },
   "outputs": [],
   "source": []
  },
  {
   "cell_type": "markdown",
   "metadata": {},
   "source": [
    "Simpson's rule is another approximation scheme, and is given by:\n",
    "\n",
    "$$\n",
    " \\int_a^b f(x)\\, dx \\approx \\frac{\\Delta x}{3}\\left[f(a) + f(b) + 2\\sum_{n=1}^{N/2 - 1} f(a + 2n\\Delta x) + 4\\sum_{n=1}^{N/2} f(a + [2n - 1]\\Delta x)\\right] \\quad\\quad \\Delta x = \\frac{b - a}{N}\n",
    "$$\n",
    "\n",
    "Use Numpy operations to estimate the integral of $\\exp(-x^2)$ between -10 and 10 using 50 intervals with Simpson's rule.\n",
    "\n",
    "**hint**: use array slicing"
   ]
  },
  {
   "cell_type": "code",
   "execution_count": null,
   "metadata": {
    "collapsed": true
   },
   "outputs": [],
   "source": []
  },
  {
   "cell_type": "markdown",
   "metadata": {},
   "source": [
    "#### [Extra exercises](https://github.com/rougier/numpy-100/blob/master/100_Numpy_exercises.md)"
   ]
  },
  {
   "cell_type": "markdown",
   "metadata": {},
   "source": [
    "---"
   ]
  },
  {
   "cell_type": "markdown",
   "metadata": {},
   "source": [
    "# `matplotlib`: plotting primitives"
   ]
  },
  {
   "cell_type": "markdown",
   "metadata": {},
   "source": [
    "Matplotlib is the most widely-used plotting library for Python. To use\n",
    "it, we should first `import` it, like we did for Numpy:"
   ]
  },
  {
   "cell_type": "code",
   "execution_count": null,
   "metadata": {
    "collapsed": true
   },
   "outputs": [],
   "source": [
    "import matplotlib.pyplot as plt\n",
    "\n",
    "%matplotlib inline"
   ]
  },
  {
   "cell_type": "markdown",
   "metadata": {},
   "source": [
    "Note that this time we actually directly import a sub-package of Matplotlib called `pyplot`, which gives us an easier plotting interface similar to Matlab.\n",
    "\n",
    "The line `%matplotlib inline` makes the plots appear in the browser (otherwise an extra window would open)."
   ]
  },
  {
   "cell_type": "markdown",
   "metadata": {},
   "source": [
    "### Simple line plots"
   ]
  },
  {
   "cell_type": "markdown",
   "metadata": {},
   "source": [
    "We can generate some data and plot it like so:"
   ]
  },
  {
   "cell_type": "code",
   "execution_count": null,
   "metadata": {
    "collapsed": false
   },
   "outputs": [],
   "source": [
    "x = np.linspace(0, 2 * np.pi, 101)\n",
    "y = np.sin(x)\n",
    "\n",
    "plt.plot(x, y)"
   ]
  },
  {
   "cell_type": "markdown",
   "metadata": {},
   "source": [
    "We can also plot several things in the same figure by calling `plt.plot` multiple times"
   ]
  },
  {
   "cell_type": "code",
   "execution_count": null,
   "metadata": {
    "collapsed": false
   },
   "outputs": [],
   "source": [
    "plt.plot(x, np.sin(x))\n",
    "plt.plot(x, np.cos(x))"
   ]
  },
  {
   "cell_type": "markdown",
   "metadata": {},
   "source": [
    "By default Matplotlib will cycle through line colors in a pre-defined order, however you can also set the style of each line explicitly:"
   ]
  },
  {
   "cell_type": "code",
   "execution_count": null,
   "metadata": {
    "collapsed": false
   },
   "outputs": [],
   "source": [
    "plt.plot(x, np.sin(x), color='red', linewidth=2, linestyle='--')\n",
    "plt.plot(x, np.cos(x), color='black', linewidth=2)"
   ]
  },
  {
   "cell_type": "markdown",
   "metadata": {},
   "source": [
    "`plt.plot` has many other parmeters that can be used to carefully tune the properties of the lines. The documentation can be found [here](http://matplotlib.org/api/pyplot_api.html#matplotlib.pyplot.plot), but be warned, it is very dense!"
   ]
  },
  {
   "cell_type": "markdown",
   "metadata": {},
   "source": [
    "### Adding labels and legends"
   ]
  },
  {
   "cell_type": "markdown",
   "metadata": {},
   "source": [
    "`pyplot` also contains other functions that allow you to customize your figures. Let's make the same plot as above, but add some axes labels and a legend:"
   ]
  },
  {
   "cell_type": "code",
   "execution_count": null,
   "metadata": {
    "collapsed": false
   },
   "outputs": [],
   "source": [
    "x = np.linspace(0, 2 * np.pi, 1000)\n",
    "\n",
    "plt.plot(x, np.sin(x), color='r', linewidth=2, linestyle='--', label='sine')\n",
    "plt.plot(x, np.cos(x), color='k', linewidth=2, label='cosine')\n",
    "\n",
    "# we can use Latex math between $ signs!\n",
    "plt.xlabel(r'Time ($\\tau$)', size=15)\n",
    "plt.ylabel(r'Amplitude', size=15)\n",
    "plt.title('Some trig functions', size=20)\n",
    "\n",
    "# make the axis tick labels larger\n",
    "plt.axes().tick_params(labelsize=15)\n",
    "# set lower/upper limits on x axis\n",
    "plt.xlim(0, 2 * np.pi)\n",
    "\n",
    "# loc=3 means put the legend in lower left corner: 3 is a magic number\n",
    "#       given in the documentation\n",
    "plt.legend(loc=3)"
   ]
  },
  {
   "cell_type": "markdown",
   "metadata": {},
   "source": [
    "<div class=\"alert alert-info\" data-toggle=\"collapse\" data-target=\"#note-mpl\">\n",
    "<p>**ProTip** <i class=\"pull-right fa fa-chevron-down\"></i></p>\n",
    "<div id=\"note-mpl\" class=\"collapse\">\n",
    "As you may have already figured out, while Matplotlib in principle provides a very complete\n",
    "interface where every parameter can be tweaked, the user interface is janky as hell, and often\n",
    "a **lot** of tweaking is necessary to get your plots looking how you like.\n",
    "<br/><br/>\n",
    "To avoid having to set the same options repeatedly you can tell matplotlib to globally set some options,\n",
    "as described in the docs: http://matplotlib.org/users/customizing.html.\n",
    "<br/><br/>\n",
    "Alternatively you could use a higher-level frontend for Matplotlib such as [seaborn](http://seaborn.pydata.org/).\n",
    "</div>\n",
    "</div>"
   ]
  },
  {
   "cell_type": "markdown",
   "metadata": {},
   "source": [
    "### Other kinds of plots"
   ]
  },
  {
   "cell_type": "markdown",
   "metadata": {},
   "source": [
    "#### Scatter plot with error bars\n",
    "Many of you will want to plot experimental data, where you want to see the individual data points. The below example shows how to achieve this:"
   ]
  },
  {
   "cell_type": "code",
   "execution_count": null,
   "metadata": {
    "collapsed": false
   },
   "outputs": [],
   "source": [
    "n_samples = 50\n",
    "x = np.linspace(0, 1, n_samples)\n",
    "sigma = 0.08\n",
    "\n",
    "# signal + disorder\n",
    "y = x + np.random.normal(loc=0, scale=sigma, size=n_samples)\n",
    "\n",
    "plt.scatter(x, y)\n",
    "# put error bars on the points, but put no lines between the errorbars\n",
    "plt.errorbar(x, y, yerr=sigma, ecolor='b', elinewidth=2, linestyle='')\n",
    "\n",
    "plt.xlim(0, 1)\n",
    "plt.xlabel('Voltage [$V$]', size=15)\n",
    "plt.ylabel('Current [$A$]', size=15)\n",
    "plt.title('Totally real I-V curve', size=20)\n",
    "plt.axes().tick_params(labelsize=15)"
   ]
  },
  {
   "cell_type": "markdown",
   "metadata": {},
   "source": [
    "#### Histograms"
   ]
  },
  {
   "cell_type": "markdown",
   "metadata": {},
   "source": [
    "Histograms can be created using the `plt.hist` function:"
   ]
  },
  {
   "cell_type": "code",
   "execution_count": null,
   "metadata": {
    "collapsed": false
   },
   "outputs": [],
   "source": [
    "n_samples = int(1E4)\n",
    "sigma = 10\n",
    "mu = 10\n",
    "\n",
    "samples = np.random.normal(loc=mu, scale=sigma, size=n_samples)\n",
    "\n",
    "plt.hist(samples, bins=50)\n",
    "\n",
    "plt.xlabel('Measured value', size=15)\n",
    "plt.ylabel('Frequency', size=15)"
   ]
  },
  {
   "cell_type": "markdown",
   "metadata": {},
   "source": [
    "#### Colorplots"
   ]
  },
  {
   "cell_type": "markdown",
   "metadata": {},
   "source": [
    "You can make colorplots in matplotlib by creating an matrix of values and passing it to the `plt.imshow` function:"
   ]
  },
  {
   "cell_type": "code",
   "execution_count": null,
   "metadata": {
    "collapsed": false
   },
   "outputs": [],
   "source": [
    "def sinc(x, y):\n",
    "    r = np.sqrt(x**2 + y**2)\n",
    "    return np.sin(r) / r\n",
    "\n",
    "x = np.linspace(-20, 20, 100)\n",
    "y = np.linspace(-20, 20, 100)\n",
    "# compute sinc on a grid of points using numpy broadcasting\n",
    "z = sinc(x.reshape(100, 1), y.reshape(1, 100))\n",
    "\n",
    "print('array to plot has shape:', z.shape)\n",
    "\n",
    "# need to pass the \"extent\" parameter to have the\n",
    "# correct x and y axes\n",
    "plt.imshow(z, extent=(x[0], x[-1], y[0], y[-1]))\n",
    "plt.set_cmap('viridis')  # choose a reasonable colormap\n",
    "plt.colorbar()  # show a color scale next to the figure"
   ]
  },
  {
   "cell_type": "markdown",
   "metadata": {},
   "source": [
    "### Saving plots"
   ]
  },
  {
   "cell_type": "markdown",
   "metadata": {},
   "source": [
    "Once we have created a plot we can also save them to disk using `plt.savefig`:"
   ]
  },
  {
   "cell_type": "code",
   "execution_count": null,
   "metadata": {
    "collapsed": false,
    "scrolled": true
   },
   "outputs": [],
   "source": [
    "x = np.linspace(0, 2 * np.pi, 101)\n",
    "y = np.sin(x)\n",
    "\n",
    "plt.plot(x, y)\n",
    "\n",
    "# matplotlib supports saving to several image formats, including png, svg and pdf\n",
    "# just put a different extension on to the filename\n",
    "plt.savefig('simple_plot.png')"
   ]
  },
  {
   "cell_type": "markdown",
   "metadata": {},
   "source": [
    "<div class=\"alert alert-info\" data-toggle=\"collapse\" data-target=\"#note-mpl-mode\">\n",
    "<p>**ProTip** <i class=\"pull-right fa fa-chevron-down\"></i></p>\n",
    "<div id=\"note-mpl-mode\" class=\"collapse\">\n",
    "If you want to interact with figures from inside the notebook (to zoom/pan around)\n",
    "just set matplotlib to use \"notebook mode\" by using\n",
    "<br/><br/>\n",
    "<code>%matplotlib notebook</code>\n",
    "<br/><br/>\n",
    "instead of\n",
    "<br/><br/>\n",
    "<code>%matplotlib inline</code>\n",
    "</div>\n",
    "</div>"
   ]
  },
  {
   "cell_type": "markdown",
   "metadata": {},
   "source": [
    "## Advanced topics"
   ]
  },
  {
   "cell_type": "markdown",
   "metadata": {},
   "source": [
    "#### Interactive plots with [Holoviews](http://holoviews.org/)"
   ]
  },
  {
   "cell_type": "markdown",
   "metadata": {},
   "source": [
    "While Matplotlib provides reasonable plotting, it is not particularly well-adapted to interactive exploration of data sets.\n",
    "\n",
    "The Holoviews library provides more features for interactively exploring your data.\n",
    "\n",
    "First we import holoviews and tell it that we want it to display its output in the browser:"
   ]
  },
  {
   "cell_type": "code",
   "execution_count": null,
   "metadata": {
    "collapsed": false
   },
   "outputs": [],
   "source": [
    "import holoviews as hv\n",
    "hv.notebook_extension('matplotlib')"
   ]
  },
  {
   "cell_type": "markdown",
   "metadata": {},
   "source": [
    "Now we can plot our `sinc` function from before, and also slice the data along an axis, \n",
    "with the position of the axis controlled by a slider widget:"
   ]
  },
  {
   "cell_type": "code",
   "execution_count": null,
   "metadata": {
    "collapsed": false
   },
   "outputs": [],
   "source": [
    "x = np.linspace(-20, 20, 100)\n",
    "y = np.linspace(-20, 20, 100)\n",
    "\n",
    "z = sinc(x.reshape(100, 1), y.reshape(1, 100))\n",
    "\n",
    "\n",
    "sinc_image = hv.Image(z, bounds=(x[0], y[0], x[-1], y[-1]))\n",
    "\n",
    "hv.HoloMap({y: sinc_image * hv.HLine(y=y) + sinc_image.sample(y=y)\n",
    "            for y in np.arange(-19, 20)}, kdims=['Y']).collate().cols(2)"
   ]
  },
  {
   "cell_type": "markdown",
   "metadata": {},
   "source": [
    "---"
   ]
  },
  {
   "cell_type": "markdown",
   "metadata": {},
   "source": [
    "# `scipy`: tools for scientific computing"
   ]
  },
  {
   "cell_type": "markdown",
   "metadata": {},
   "source": [
    "So now we know how to contain our data (Numpy arrays) and plot it (Matplotlib), however we still need some tools that will enable us to do some more advanced data analysis and/or computations to generate data.\n",
    "\n",
    "[Scipy](http://scipy.org) is the core library that provides these more advanced capabilites. In addition there is an ecosystem of so-called \"[SciKits](http://scikits.appspot.com/)\" that build on Scipy to provide functionality adapted to more specific problem domains.\n",
    "\n",
    "Here, we will look at some of the key functionality that core Scipy provides."
   ]
  },
  {
   "cell_type": "markdown",
   "metadata": {},
   "source": [
    "### [Dense linear algebra](https://docs.scipy.org/doc/scipy/reference/linalg.html)"
   ]
  },
  {
   "cell_type": "markdown",
   "metadata": {},
   "source": [
    "We already saw that we can do basic linear algebra operations with Numpy (adding vectors and matrices, dot products,\n",
    "matrix-vector product...), however Scipy provides functionality for more involved algorithms:"
   ]
  },
  {
   "cell_type": "markdown",
   "metadata": {},
   "source": [
    "#### Exercises\n",
    "+ create a 3x3 matrix representing a rotation around the z axis\n",
    "  - find the eigenvalues and eigenvectors numerically\n",
    "  - verify that the answer is correct (remember $M x = \\lambda x$ for a matrix $M$ with eigenvalue $\\lambda$ and \n",
    "    eigenvalue $x$)\n",
    "+ create a 4x4 random matrix $M$ and a random vector $v$ with 4 entries\n",
    "  -  solve the linear system $M x = b$ for the vector $x$"
   ]
  },
  {
   "cell_type": "markdown",
   "metadata": {},
   "source": [
    "### [Sparse linear algebra](https://docs.scipy.org/doc/scipy/reference/sparse.html)"
   ]
  },
  {
   "cell_type": "markdown",
   "metadata": {},
   "source": [
    "Sometimes you may be dealing with very *sparse* matrices/vectors, where many of the entries are zero. In such cases\n",
    "we can use special data structures to avoid storing all of the (redundant) zeros. In addition there are different\n",
    "algorithms that can be used to do things like compute eigenvalues of sparse matrices, or solve linear systems involving sparse matrices:"
   ]
  },
  {
   "cell_type": "markdown",
   "metadata": {},
   "source": [
    "#### Exercises\n",
    "+ create a 1000 x 1000 tridiagonal matrix with +2 on the diagonal and -1 on the upper/lower diagonals.\n",
    "  - Find the 3 eigenvectors with the lowest eigenvalues using sparse linear algebra functions\n",
    "  - plot these eigenvectors\n",
    "+ create a 1000 element vector $v$ with 0 in all entries and 1 in the first entry\n",
    "  - using the same 1000x1000 matrix, $M$, as before, solve the linear system $Mx = b$\n",
    "    using sparse linear algebra functions"
   ]
  },
  {
   "cell_type": "code",
   "execution_count": null,
   "metadata": {
    "collapsed": true
   },
   "outputs": [],
   "source": []
  },
  {
   "cell_type": "markdown",
   "metadata": {},
   "source": [
    "### [Numerical quadrature](https://docs.scipy.org/doc/scipy/reference/tutorial/integrate.html#general-integration-quad)"
   ]
  },
  {
   "cell_type": "markdown",
   "metadata": {},
   "source": [
    "Scipy also wraps the venerable `quadpack` library to provide numerical evaluation of definite integrals\n",
    "\n",
    "#### Exercises\n",
    "+ estimate the integral of $\\exp(-x^2)$ between 0 and 1\n",
    "+ estimate the integral of $\\exp(-x^2)$ between $-\\infty$ and $\\infty$"
   ]
  },
  {
   "cell_type": "code",
   "execution_count": null,
   "metadata": {
    "collapsed": true
   },
   "outputs": [],
   "source": []
  },
  {
   "cell_type": "markdown",
   "metadata": {},
   "source": [
    "### [Ordinary differential equations](https://docs.scipy.org/doc/scipy/reference/tutorial/integrate.html#ordinary-differential-equations-odeint)"
   ]
  },
  {
   "cell_type": "markdown",
   "metadata": {},
   "source": [
    "The `scipy.integrate` package also includes facilities for solving ordinary differential equations.\n",
    "By default a hybrid algorithm that can handle both stiff and non-stiff problems is used, but you can select which\n",
    "method to use as well as tuning the method parameters.\n",
    "\n",
    "#### Exercises\n",
    "##### Simple pendulum\n",
    "a simple pendulum is defined by the system of equations\n",
    "$$\n",
    "\\begin{align}\n",
    "\\frac{d\\theta}{dt} &= \\omega\\\\\n",
    "\\frac{d\\omega}{dt} &= -\\alpha\\sin(\\theta)\n",
    "\\end{align}\n",
    "$$\n",
    "where $\\alpha$ is a model parameter\n",
    "+ create a function `pendulum` that takes a 2-vector $(\\theta, \\omega)$ and a time, and returns $(\\dot{\\theta}, \\dot{\\omega})$\n",
    "+ start the pendulum in a state $(\\theta_0, 0)$ with $\\alpha = 1$ and evolve it forward in time until $t=20$\n",
    "+ plot $\\theta$ as a function of time\n",
    "+ graphically compare the result with the small-angle result $\\theta(t) = \\theta_0 \\cos(\\sqrt{\\alpha}t)$"
   ]
  },
  {
   "cell_type": "code",
   "execution_count": null,
   "metadata": {
    "collapsed": true
   },
   "outputs": [],
   "source": []
  },
  {
   "cell_type": "markdown",
   "metadata": {},
   "source": [
    "### [Function optimization](https://docs.scipy.org/doc/scipy/reference/tutorial/optimize.html#optimization-scipy-optimize)\n",
    "Scipy includes a plethora of routines implementing algorithms for: curve fitting, minimum finding, root finding etc."
   ]
  },
  {
   "cell_type": "markdown",
   "metadata": {},
   "source": [
    "#### Exercises\n",
    "##### Curve fitting\n",
    "- load the data in \"`curve_fitting_data.npy`\" into a Numpy array\n",
    "  + the array has shape `(2, 50)` where the first row is the independent variable, and the\n",
    "    second row is the dependent variable\n",
    "- plot the data using a scatter plot\n",
    "- the data has been produced according to a model of the form $f(x) = \\alpha x \\exp(-\\beta x)$ (plus some noise)\n",
    "  where $\\alpha$ and $\\beta$ are the model parameters and $x$ is the independent variable.\n",
    "  Estimate the model parameters\n",
    "- plot the estimated model on top of the data"
   ]
  },
  {
   "cell_type": "code",
   "execution_count": null,
   "metadata": {
    "collapsed": true
   },
   "outputs": [],
   "source": []
  },
  {
   "cell_type": "markdown",
   "metadata": {},
   "source": [
    "### [Fourier Transforms](https://docs.scipy.org/doc/scipy/reference/tutorial/fftpack.html#fourier-transforms-scipy-fftpack)"
   ]
  },
  {
   "cell_type": "markdown",
   "metadata": {},
   "source": [
    "Scipy also wraps the venerable `FFTPACK` library for computing 1D and 2D Fourier transforms using the fast fourier transform (FFT) algorithm.\n",
    "\n",
    "#### Exercises\n",
    "##### 1D transforms\n",
    "+ create a function that evaluates $g(x) = cos(2\\pi f_0 x) + cos(2\\pi f_1 x)$\n",
    "+ create an array that samples the function using 200 points on the interval [0, 1]\n",
    "+ find the Fourier transform of this sample\n",
    "+ find out what format the transformed array is in\n",
    "+ plot the power spectrum of the sample as a function of frequency"
   ]
  },
  {
   "cell_type": "code",
   "execution_count": null,
   "metadata": {
    "collapsed": true
   },
   "outputs": [],
   "source": []
  },
  {
   "cell_type": "markdown",
   "metadata": {},
   "source": [
    "### [Image manipulation](https://docs.scipy.org/doc/scipy-0.18.1/reference/ndimage.html)"
   ]
  },
  {
   "cell_type": "markdown",
   "metadata": {},
   "source": [
    "As we saw in the Matplotlib section, images are just 2D arrays. `scipy.ndimage` contains algorithms for manipulating images, applying filters etc."
   ]
  },
  {
   "cell_type": "markdown",
   "metadata": {},
   "source": [
    "#### Tasks\n",
    "\n",
    "##### Simple filters\n",
    "+ load the image \"square.png\" into a Numpy array\n",
    "+ show it with `pyplot.imshow`\n",
    "+ rotate the square by 45 degrees\n",
    "+ apply a sobel (gradient) filter to show the edges in the image\n",
    "+ sharpen the image using a gaussian filter (see page 9 [here](http://www.math.ucla.edu/~lvese/155.1.09w/PCMI_USS_2010/Lectures.pdf))\n",
    "  \n",
    "##### Feature identification\n",
    "+ load the image \"blobs.png\" into a Numpy array\n",
    "+ identify (label) the distinct blobs in the image\n",
    "+ find the \"centre of mass\" of each of the blobs\n",
    "+ plot the blobs and mark their centres of mass\n",
    "+ estimate the area (in pixels) of each of the blobs\n",
    "  \n",
    "(note that each of these tasks is not as difficult as it first appears)"
   ]
  },
  {
   "cell_type": "code",
   "execution_count": null,
   "metadata": {
    "collapsed": true
   },
   "outputs": [],
   "source": []
  },
  {
   "cell_type": "markdown",
   "metadata": {},
   "source": [
    "<div class=\"alert alert-info\" data-toggle=\"collapse\" data-target=\"#note3\">\n",
    "<p>**ProTip** <i class=\"pull-right fa fa-chevron-down\"></i></p>\n",
    "<div id=\"note3\" class=\"collapse\">\n",
    "The Numpy and Scipy documentation, while reasonably complete, is rather **dense**.\n",
    "<br/>\n",
    "If you just want to get the gist of how to do something, it is often easier to google\n",
    "to get good usage examples.\n",
    "</div>\n",
    "</div>"
   ]
  },
  {
   "cell_type": "markdown",
   "metadata": {},
   "source": [
    "---"
   ]
  },
  {
   "cell_type": "markdown",
   "metadata": {},
   "source": [
    "# Problem solving with Python"
   ]
  },
  {
   "cell_type": "markdown",
   "metadata": {},
   "source": [
    "In the context of your daily research you will often come up against problems that can't be solved\n",
    "directly using the above-described tools.\n",
    "\n",
    "In this situation it is good to know how you can approach problems. In practice you will often find that\n",
    "the following crib sheet will be satisfactory in a surprising number of cases:"
   ]
  },
  {
   "cell_type": "markdown",
   "metadata": {},
   "source": [
    "### Algorithm for problem solving\n",
    "\n",
    "- identify the key words of your problem, append \"Python\" and stick it into google\n",
    "- see if there are code snippets that do approximately what you want:\n",
    "  + [StackOverflow](http://stackoverflow.com/) is a good source of these\n",
    "  + random technical blogs are also not bad if they are highly ranked by google\n",
    "- if the snippet uses a package that you do not have installed:\n",
    "  + try installing it by running `pip install <packagename>` in a terminal\n",
    "  + if you are using the [Anaconda](https://www.continuum.io/downloads) Python distribution,\n",
    "    you can alternatively use `conda install <packagename>`\n",
    "  + if that doesn't work, google the package name, visit the package's official\n",
    "    website and look for installation instructions\n",
    "- copy/paste a code snippet that looks promising\n",
    "- get a **minimum working example** which you can then **modify and adapt** (starting from\n",
    "  scratch is hard)\n",
    "- iteratively improve on the minimum working example until your program does what you want"
   ]
  },
  {
   "cell_type": "markdown",
   "metadata": {},
   "source": [
    "#### Points to remember\n",
    "+ It's OK not to understand everything straight away\n",
    "+ Skim read resources (documentation, installation instructions...) while stuff works. When stuff doesn't work anymore, be ready to re-read these resources in more detail\n",
    "+ Google is your friend. So is [StackOverflow](http://stackoverflow.com/)\n",
    "\n",
    "#### Caveats\n",
    "\n",
    "+ Not all examples/snippets are up to date, reliable, or written by someone who has the slightest clue what they are doing\n",
    "+ Often the accepted answer on [StackOverflow](http://stackoverflow.com/) is good enough for a first iteration,\n",
    "  although pay attention to the responder's \"reputation\" to gauge how reliable the answer may be.\n",
    "+ sometimes you may come across [funny answers](http://stackoverflow.com/questions/1732348/regex-match-open-tags-except-xhtml-self-contained-tags) too..."
   ]
  },
  {
   "cell_type": "markdown",
   "metadata": {},
   "source": [
    "## Scenario"
   ]
  },
  {
   "cell_type": "markdown",
   "metadata": {},
   "source": [
    "Your predecessor has left you some experimental data, in an excel spreadsheet. You want to plot and analyze the data in ways that are not provided by Excel; what do you do?"
   ]
  },
  {
   "cell_type": "markdown",
   "metadata": {},
   "source": [
    "## Scenario"
   ]
  },
  {
   "cell_type": "markdown",
   "metadata": {},
   "source": [
    "You have data in an Excel spreadsheet \"`current_voltage_data.xlsx`\", but it is routinely updated by colleagues. In addition, your supervisor\n",
    "wants to have not only the plots you produce, but also the data after you have run your analysis on it,\n",
    "and she wants it in an Excel spreadsheet."
   ]
  },
  {
   "cell_type": "markdown",
   "metadata": {},
   "source": [
    "---"
   ]
  },
  {
   "cell_type": "markdown",
   "metadata": {},
   "source": [
    "# Longer Excercises"
   ]
  },
  {
   "cell_type": "markdown",
   "metadata": {},
   "source": [
    "### Explore!\n",
    "\n",
    "At the start of the notebook there were just a few examples of scientific Python packages for treating different problem domains.\n",
    "\n",
    "Find a Python package that you think could be useful in your research. Try installing it and testing out some of the usage examples"
   ]
  },
  {
   "cell_type": "markdown",
   "metadata": {},
   "source": [
    "### [Mandelbrot set](https://en.wikipedia.org/wiki/Mandelbrot_set)\n",
    "\n",
    "The Mandelbrot set is the set of complex numbers $c$ for which the function $f_c ( z ) = z^2 + c$ does not diverge when iterated from $z = 0$.\n",
    "\n",
    "In this exercise we will sample and vizualize the Mandelbrot set using Numpy and Matplotlib.\n",
    "\n",
    "#### Tasks\n",
    "+ write a function `mandelbrot` that takes a complex value $c$, evaluates $f_c$ 100 times starting from $0$, and returns the\n",
    "  absolute value of the result\n",
    "+ evaluate your function on a grid of complex numbers (**hint**: use numpy operations and writing `c = x + 1j * y`\n",
    "  where `x` and `y` are real)\n",
    "+ plot the result using `pyplot.imshow`\n",
    "+ improve your `mandelbrot` function so as to remove the `RuntimeWarning` that you get when evaluating it at points that \n",
    "  are not in the Mandelbrot set (what is happening here?)\n",
    "  \n",
    "#### Harder tasks\n",
    "+ make a visualisation that allows interactive zooming\n",
    "+ make the visualisation re-evaluate the points in the mandelbrot set when\n",
    "  the user zooms (so that more structure is revealed by zooming)\n",
    "+ do you think you can speed up your solution?\n",
    "\n",
    "+ use [Cython](http://cython.org/) to rewrite your `mandelbrot` function. Take advantage of multiple CPU cores when\n",
    "  evaluating the function by using [prange](http://cython.readthedocs.io/en/latest/src/userguide/parallelism.html).\n",
    "  You can use the [Cython cell magic](http://cython.readthedocs.io/en/latest/src/quickstart/build.html) to auto-compile\n",
    "  your code from within the notebook."
   ]
  },
  {
   "cell_type": "code",
   "execution_count": null,
   "metadata": {
    "collapsed": true
   },
   "outputs": [],
   "source": []
  },
  {
   "cell_type": "markdown",
   "metadata": {},
   "source": [
    "### [Lorenz attractor](https://en.wikipedia.org/wiki/Lorenz_system)"
   ]
  },
  {
   "cell_type": "markdown",
   "metadata": {},
   "source": [
    "The Lorenz system is a system of ordinary differential equations that displays chaotic solutions for certain parameter values.\n",
    "\n",
    "The system is defined by\n",
    "\n",
    "$$\n",
    "\\begin{align}\n",
    "\\frac{dx}{dt} &= \\sigma(y - x)\\\\\n",
    "\\frac{dy}{dt} &= x(\\rho - z) - y\\\\\n",
    "\\frac{dz}{dt} &= xy - \\beta z\n",
    "\\end{align}\n",
    "$$\n",
    "\n",
    "where $(x, y, z)$ are the coordinates, and $\\beta$, $\\sigma$, and $\\rho$\n",
    "are parameters.\n",
    "\n",
    "In this exercise we will numerically solve the Lorenz system, visualize the solution with Matplotlib, and explore the parameter space\n",
    "\n",
    "#### Tasks\n",
    "+ write a function, `lorenz`, that takes a 3-vector of coordinates $(x, y, z)$ and the current time, and\n",
    "  returns a 3-vector $(\\dot{x}, \\dot{y}, \\dot{z})$ (use the values $\\beta=8/3$, $\\sigma=10$, and $\\rho=28$\n",
    "  for now)\n",
    "+ use `scipy.integrate.odeint` with your `lorenz` function to solve the lorenz system\n",
    "+ plot the trajectory projected onto the $x-y$, $y-z$ and $x-z$ planes, respectively\n",
    "+ this system shows sensitivity to initial conditions; estimate the [Lyapunov exponent](https://en.wikipedia.org/wiki/Lyapunov_exponent) of the system.\n",
    "\n",
    "#### Harder Tasks\n",
    "+ create a 3D visualization instead of the 3 projected visualizations\n",
    "+ estimate the positions of the \"attractor\" points"
   ]
  },
  {
   "cell_type": "code",
   "execution_count": null,
   "metadata": {
    "collapsed": true
   },
   "outputs": [],
   "source": []
  },
  {
   "cell_type": "markdown",
   "metadata": {},
   "source": [
    "# Further reading"
   ]
  },
  {
   "cell_type": "markdown",
   "metadata": {
    "collapsed": true
   },
   "source": [
    "http://www.scipy-lectures.org/index.html  -- a more in-depth and professional version of this class"
   ]
  }
 ],
 "metadata": {
  "kernelspec": {
   "display_name": "Python 3",
   "language": "python",
   "name": "python3"
  },
  "language_info": {
   "codemirror_mode": {
    "name": "ipython",
    "version": 3
   },
   "file_extension": ".py",
   "mimetype": "text/x-python",
   "name": "python",
   "nbconvert_exporter": "python",
   "pygments_lexer": "ipython3",
   "version": "3.5.2+"
  }
 },
 "nbformat": 4,
 "nbformat_minor": 0
}
