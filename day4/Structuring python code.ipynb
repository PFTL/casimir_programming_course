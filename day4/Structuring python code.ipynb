{
 "cells": [
  {
   "cell_type": "markdown",
   "metadata": {},
   "source": [
    "# Looking back at what we learned\n",
    "\n",
    "1. Writing simple programs by combining building blocks\n",
    "2. Working with files and scripts using shell\n",
    "3. Working with advanced libraries\n",
    "4. Searching for answers to your coding problems online\n",
    "5. Keeping track of a project using git"
   ]
  },
  {
   "cell_type": "markdown",
   "metadata": {},
   "source": [
    "By the way: don't worry if you do not feel comfortable with one of these topics: most of these cannot be learned in a day!"
   ]
  },
  {
   "cell_type": "markdown",
   "metadata": {},
   "source": [
    "# Structuring (python) code\n",
    "\n",
    "We have learned the basics of python by now, and have seen how to use various python concepts and powerful libraries from Jupyter notebooks. This is a perfectly viable way to work, as long as projects are not too complicated. \n",
    "\n",
    "Real-life projects however usually turn out to be more complex, with code accumulating over time. In this case structuring your code is vital."
   ]
  },
  {
   "cell_type": "markdown",
   "metadata": {},
   "source": [
    "![](http://imgs.xkcd.com/comics/goto.png)\n",
    "\n",
    "(Image © Randall Munroe, XKCD, https://xkcd.com/292/, CC-BY-NC v2.5)"
   ]
  },
  {
   "cell_type": "markdown",
   "metadata": {},
   "source": [
    "## Task: what distinguishes good software project from a bad one?\n",
    "\n",
    "1. ???\n",
    "2. ???"
   ]
  },
  {
   "cell_type": "markdown",
   "metadata": {},
   "source": [
    "Bonus question: how to learn about structuring your code?"
   ]
  },
  {
   "cell_type": "markdown",
   "metadata": {},
   "source": [
    "## Case study: simulation of orbital motion"
   ]
  },
  {
   "cell_type": "code",
   "execution_count": null,
   "metadata": {},
   "outputs": [],
   "source": [
    "%matplotlib inline\n",
    "\n",
    "import numpy as np\n",
    "from matplotlib import pyplot"
   ]
  },
  {
   "cell_type": "code",
   "execution_count": null,
   "metadata": {},
   "outputs": [],
   "source": [
    "# A planet's orbit\n",
    "N = 1000  # Number of time steps\n",
    "dt = 0.1\n",
    "Gmm = 1  # Strength of the gravitational force\n",
    "r = np.zeros((N, 2))  # Coordinate\n",
    "v = np.zeros((N, 2))  # Velocity\n",
    "r[0] = [1, 0]\n",
    "v[0] = [0, 1]\n",
    "\n",
    "for i in range(N-1):\n",
    "    r[i+1] = r[i] + dt * v[i]\n",
    "\n",
    "    force = -Gmm * r[i] / np.linalg.norm(r[i])**3\n",
    "    v[i+1] = v[i] + dt * force\n",
    "\n",
    "pyplot.subplot(aspect='equal')\n",
    "pyplot.plot(*r.T)"
   ]
  },
  {
   "cell_type": "markdown",
   "metadata": {},
   "source": [
    "Is this code well written? How do we tell?"
   ]
  },
  {
   "cell_type": "markdown",
   "metadata": {},
   "source": [
    "### Task 1\n",
    "\n",
    "* Tweak the parameters of the cell above to confirm that reducing a time step improves the precision\n",
    "* Copy the cell and plot a *hyperbolic* trajectory by increasing the velocity to a larger value."
   ]
  },
  {
   "cell_type": "code",
   "execution_count": null,
   "metadata": {},
   "outputs": [],
   "source": []
  },
  {
   "cell_type": "markdown",
   "metadata": {},
   "source": [
    "#### Solution"
   ]
  },
  {
   "cell_type": "code",
   "execution_count": null,
   "metadata": {},
   "outputs": [],
   "source": [
    "# Particle \n",
    "N = 10000  # Number of time steps\n",
    "dt = 0.01\n",
    "Gmm = 1  # Strength of the gravitational force\n",
    "r = np.zeros((N, 2))  # Coordinate\n",
    "v = np.zeros((N, 2))  # Velocity\n",
    "r[0] = [1, 0]\n",
    "v[0] = [0, 1.42]\n",
    "\n",
    "for i in range(N-1):\n",
    "    r[i+1] = r[i] + dt * v[i]\n",
    "\n",
    "    force = -Gmm * r[i] / np.linalg.norm(r[i])**3\n",
    "    v[i+1] = v[i] + dt * force\n",
    "\n",
    "pyplot.subplot(aspect='equal')\n",
    "pyplot.plot(*r.T);"
   ]
  },
  {
   "cell_type": "markdown",
   "metadata": {},
   "source": [
    "### Task 2\n",
    "\n",
    "There must be a better way, which avoids all the copying!\n",
    "\n",
    "We are doing the same task over and over: plotting the trajectory given the starting parameters. This calls for making a function.\n",
    "\n",
    "* Define a function that takes initial coordinate, velocity, dt, and the number of steps, and plots the trajectory"
   ]
  },
  {
   "cell_type": "code",
   "execution_count": null,
   "metadata": {},
   "outputs": [],
   "source": []
  },
  {
   "cell_type": "markdown",
   "metadata": {},
   "source": [
    "#### Solution"
   ]
  },
  {
   "cell_type": "code",
   "execution_count": null,
   "metadata": {},
   "outputs": [],
   "source": [
    "# Strength of the gravitational force\n",
    "# We decide to not vary this, so we keep it a global variable\n",
    "GRAVITATIONAL_CONSTANT = 1\n",
    "\n",
    "def plot_trajectory(r0, v0, dt, N):\n",
    "    Gmm = GRAVITATIONAL_CONSTANT\n",
    "\n",
    "    r = np.zeros((N, 2))  # Coordinate\n",
    "    v = np.zeros((N, 2))  # Velocity\n",
    "    r[0] = r0\n",
    "    v[0] = v0\n",
    "\n",
    "    for i in range(N-1):\n",
    "        r[i+1] = r[i] + dt * v[i]\n",
    "\n",
    "        force = -Gmm * r[i] / np.linalg.norm(r[i])**3\n",
    "        v[i+1] = v[i] + dt * force\n",
    "\n",
    "    pyplot.subplot(aspect='equal')\n",
    "    pyplot.plot(*r.T)\n",
    "\n",
    "\n",
    "plot_trajectory([1, 0], [0, 1], 0.1, 1000)\n",
    "#plot_trajectory([1, 0], [0, 1.45], 0.1, 1000)"
   ]
  },
  {
   "cell_type": "markdown",
   "metadata": {},
   "source": [
    "## Python functions and modules\n",
    "\n",
    "### Collecting commonly used code\n",
    "\n",
    "Typically, in your project you will develop some core functionality that you will use over and over again - for example some function\n",
    "\n",
    "```python\n",
    "def do_some_fancy_stuff(arguments):\n",
    "    ...\n",
    "```\n",
    "\n",
    "You then use this function for many purposes. Over time, you will have several notebooks using it, and then you would need to copy the function and all related code to each notebook!\n",
    "\n",
    "This is not practical, and error prone.\n",
    "\n",
    "In this case you should put the function and all related code into a python `module`. This means you put the code in some text file with a name ending in ``.py``, let's say\n",
    "``module.py``. Then you can use this function in any notebook you want by importing the module:\n",
    "\n",
    "```python\n",
    "import module\n",
    "\n",
    "module.do_some_fancy_stuff(...)\n",
    "```\n",
    "    \n",
    "Alternatively, you can also write\n",
    "\n",
    "```python\n",
    "from module import do_some_fancy_stuff\n",
    "\n",
    "do_some_fancy_stuff(...)\n",
    "```\n",
    "\n",
    "but you already saw that syntax in the basic introduction in ``from math import ...``.\n",
    "\n",
    "### Separation in different namespaces\n",
    "\n",
    "Another advantage of modules is that it helps you to avoid errors that may arise if too much code gets intermixed. Say you have code like this:"
   ]
  },
  {
   "cell_type": "code",
   "execution_count": null,
   "metadata": {},
   "outputs": [],
   "source": [
    "c = 1\n",
    "\n",
    "def f(x):\n",
    "    return c * x"
   ]
  },
  {
   "cell_type": "markdown",
   "metadata": {},
   "source": [
    "The function ``f(x)`` depends on a global variable ``c``. Now say you write a lot of code in between, and you define the variable ``c`` for some other purpose overwriting it by accident (you forgot it was even used before). Then you will change the behavior of ``f(x)``! Try that below"
   ]
  },
  {
   "cell_type": "code",
   "execution_count": null,
   "metadata": {},
   "outputs": [],
   "source": [
    "f(1)"
   ]
  },
  {
   "cell_type": "code",
   "execution_count": null,
   "metadata": {},
   "outputs": [],
   "source": [
    "c = 2\n",
    "f(1)"
   ]
  },
  {
   "cell_type": "markdown",
   "metadata": {},
   "source": [
    "If you separate the code into a module ``function.py`` which reads\n",
    "\n",
    "```python\n",
    "c = 1\n",
    "\n",
    "def f(x):\n",
    "    return c * x\n",
    "```\n",
    "        \n",
    "and you use it as\n",
    "\n",
    "```python\n",
    "import function\n",
    "\n",
    "function.f(1)\n",
    "\n",
    "c = 2\n",
    "\n",
    "function.f(1)\n",
    "```\n",
    "\n",
    "then no problem arises. ``f`` uses the variable ``c`` from the namespace of the module, whereas you used the variable ``c`` from the namespace of your notebook. You could stil change ``c`` in the module, but then you need to write ``module.c = 2`` - which makes it immediately clear what you do.\n",
    "\n",
    "Namespaces are a powerful concept in python. They also apply for example to functions - if you write"
   ]
  },
  {
   "cell_type": "code",
   "execution_count": null,
   "metadata": {},
   "outputs": [],
   "source": [
    "c = 1\n",
    "\n",
    "def f(x):\n",
    "    c = 2\n",
    "    return c * x"
   ]
  },
  {
   "cell_type": "code",
   "execution_count": null,
   "metadata": {},
   "outputs": [],
   "source": [
    "c = 1\n",
    "print(f(1))\n",
    "c = 3\n",
    "print(f(1))"
   ]
  },
  {
   "cell_type": "markdown",
   "metadata": {},
   "source": [
    "then the variable ``c`` within the definition of ``f(x)`` is used. Note however that in this case you cannot access the variable c as ``f.c`` (try what happens if you do that). \n",
    "\n",
    "This was a simple example of nested namespaces. If you want to know more, then google it!"
   ]
  },
  {
   "cell_type": "markdown",
   "metadata": {},
   "source": [
    "## Docstrings\n",
    "\n",
    "If your code becomes more and more complex, you need to add documentation. A convenient way in python is to add documentation directly to the function by wrting a string directly after the function definition:"
   ]
  },
  {
   "cell_type": "code",
   "execution_count": null,
   "metadata": {},
   "outputs": [],
   "source": [
    "def f(x, y):\n",
    "    \"\"\"Compute the height of a point on a plane\n",
    "\n",
    "    Parameters\n",
    "    ----------\n",
    "    x : float\n",
    "        X-coordinate\n",
    "    y : float\n",
    "        Y-coordinate\n",
    "\n",
    "    Returns\n",
    "    -------\n",
    "    z : float\n",
    "        Height\n",
    "    \"\"\"\n",
    "    pass"
   ]
  },
  {
   "cell_type": "markdown",
   "metadata": {},
   "source": [
    "You can then access the documentation from the Jupyter notebook simply by writing\n",
    "\n",
    "- ``f`` and hitting `SHIFT + TAB` to show the first part of the docstring\n",
    "- ``f?`` or ``help(f)`` to get the full docstring\n",
    "\n",
    "You can also add a docstring to the top of a module file."
   ]
  },
  {
   "cell_type": "markdown",
   "metadata": {},
   "source": [
    "### Task 3\n",
    "\n",
    "Add a docstring to our orbit simulator"
   ]
  },
  {
   "cell_type": "code",
   "execution_count": null,
   "metadata": {},
   "outputs": [],
   "source": []
  },
  {
   "cell_type": "markdown",
   "metadata": {},
   "source": [
    "## Designing good functions"
   ]
  },
  {
   "cell_type": "markdown",
   "metadata": {},
   "source": [
    "Is our new simulation well designed?\n",
    "\n",
    "### Task 3\n",
    "\n",
    "Discuss the following questions with your neighbor:\n",
    "\n",
    "1. How we be sure that we didn't introduce an error? Maybe the new implementation is a little bit different?\n",
    "2. Does our function take all the correct arguments? Can we improve its input?\n",
    "3. What should the function return?\n",
    "4. Based on this discussion, improve the function. (There are many different options)"
   ]
  },
  {
   "cell_type": "code",
   "execution_count": null,
   "metadata": {},
   "outputs": [],
   "source": []
  },
  {
   "cell_type": "markdown",
   "metadata": {},
   "source": [
    "## Testing\n",
    "\n",
    "If the code is complex, changes of this code become hard to check as well. Imagine a function you wrote being used in 50 different places.\n",
    "\n",
    "\n",
    "It is very easy and common for everybody, even the most experienced programmer, to introduce bugs in your code while working on it. Often those bugs may not affect what you are doing now, but break some stuff you did before! On many occasions you can catch these problems by writing tests alongside your code.\n",
    "\n",
    "(In principle, there are several frameworks for keeping track of tests in python - we are using ``pytest``, which is the a common and user-friendly option)\n",
    "\n",
    "What you have to do is simple: When you wrote some code in a module, add another python file that starts with ``test_``, and add a function to it that starts with ``test_`` (that's easy to remember, right;). For example, in the module ``module.py`` you might have:\n",
    "\n",
    "```python\n",
    "def add_together(x, y):\n",
    "    return x + y\n",
    "```\n",
    "\n",
    "In ``test_module.py`` you would write:\n",
    "\n",
    "```python\n",
    "import module\n",
    "\n",
    "def test_add_together():\n",
    "    assert add_together(1, 2) == 3\n",
    "    assert add_together(\"abc\", \"def\") == \"abcdef\"\n",
    "```\n",
    "        \n",
    "We introduced a new statement, ``assert``. Let's check here in the notebook, what it does:"
   ]
  },
  {
   "cell_type": "code",
   "execution_count": null,
   "metadata": {},
   "outputs": [],
   "source": [
    "%%writefile module.py"
   ]
  },
  {
   "cell_type": "code",
   "execution_count": null,
   "metadata": {},
   "outputs": [],
   "source": [
    "assert 1 == 1"
   ]
  },
  {
   "cell_type": "markdown",
   "metadata": {},
   "source": [
    "Nothing happens in this case. But now let's see what happens if we assert a statement that is not true:"
   ]
  },
  {
   "cell_type": "code",
   "execution_count": null,
   "metadata": {},
   "outputs": [],
   "source": [
    "assert 1 < 1"
   ]
  },
  {
   "cell_type": "markdown",
   "metadata": {},
   "source": [
    "In this case, an ``AssertionError`` is raised.\n",
    "\n",
    "The key is to introduce test functions that raise an ``AssertionError`` if something goes wrong.\n",
    "\n",
    "So now you have a python file with lots of tests. You can run them all automatically by calling from the command line \n",
    "\n",
    "```\n",
    "py.test\n",
    "```\n",
    "    \n",
    "within the folder containing the modules and tests. It will run all the tests you ever wrote, and show you all failures!\n",
    "\n",
    "To make these tests useful, you would want to run them as often as possible. When you design them, try to use them on as small problems as possible, so that they run *fast*. In this way, you will often run them, and catch many errors."
   ]
  },
  {
   "cell_type": "markdown",
   "metadata": {},
   "source": [
    "### Task 5\n",
    "\n",
    "1. Discuss how to test your function.\n",
    "2. Implement a test and run it."
   ]
  },
  {
   "cell_type": "markdown",
   "metadata": {},
   "source": [
    "# Object-oriented programming and classes\n",
    "\n",
    "**Don't use this unless you are completely sure you cannot avoid using it.**\n",
    "\n",
    "(That's why we also don't include an exercise for it)."
   ]
  },
  {
   "cell_type": "markdown",
   "metadata": {},
   "source": [
    "Everything in Python is an *object* of some *class*:"
   ]
  },
  {
   "cell_type": "code",
   "execution_count": null,
   "metadata": {},
   "outputs": [],
   "source": [
    "type(1)"
   ]
  },
  {
   "cell_type": "code",
   "execution_count": null,
   "metadata": {},
   "outputs": [],
   "source": [
    "def f(x):\n",
    "    return x\n",
    "\n",
    "type(f)"
   ]
  },
  {
   "cell_type": "code",
   "execution_count": null,
   "metadata": {},
   "outputs": [],
   "source": [
    "type(print)"
   ]
  },
  {
   "cell_type": "code",
   "execution_count": null,
   "metadata": {},
   "outputs": [],
   "source": [
    "type(print)"
   ]
  },
  {
   "cell_type": "code",
   "execution_count": null,
   "metadata": {},
   "outputs": [],
   "source": [
    "type(None)"
   ]
  },
  {
   "cell_type": "code",
   "execution_count": null,
   "metadata": {},
   "outputs": [],
   "source": [
    "import numpy as np\n",
    "\n",
    "type(np.array([1]))"
   ]
  },
  {
   "cell_type": "markdown",
   "metadata": {},
   "source": [
    "**Classes** are a way of defining your own types of objects with custom properties and behavior.\n",
    "\n",
    "Minimal example:"
   ]
  },
  {
   "cell_type": "code",
   "execution_count": null,
   "metadata": {},
   "outputs": [],
   "source": [
    "class Fruit:  # The way to define a class\n",
    "    pass  # Empty statement to avoid a syntax error (try removing this)\n",
    "\n",
    "green_apple_from_Jumbo = Fruit()  # Looks like we are calling a function\n",
    "type(green_apple_from_Jumbo)"
   ]
  },
  {
   "cell_type": "markdown",
   "metadata": {},
   "source": [
    "Objects have *attributes*, these are variables associated with the object."
   ]
  },
  {
   "cell_type": "code",
   "execution_count": null,
   "metadata": {},
   "outputs": [],
   "source": [
    "green_apple_from_Jumbo.tasty = \"maybe yes\"  # assign an attribute\n",
    "\n",
    "print(green_apple_from_Jumbo.tasty)  # access the attribute"
   ]
  },
  {
   "cell_type": "markdown",
   "metadata": {},
   "source": [
    "Objects may also have *methods*. These are functions that can modify the state of the object."
   ]
  },
  {
   "cell_type": "code",
   "execution_count": null,
   "metadata": {},
   "outputs": [],
   "source": [
    "class Fruit:\n",
    "    def __init__(self, taste):  # The function used when the object is created.\n",
    "        self.taste = taste\n",
    "    \n",
    "    def eat(self):\n",
    "        if self.taste == \"tasty\":\n",
    "            print('Wow, tasty!')\n",
    "        else:\n",
    "            print('Not tasty :-(')"
   ]
  },
  {
   "cell_type": "code",
   "execution_count": null,
   "metadata": {},
   "outputs": [],
   "source": [
    "green_apple_from_Jumbo = Fruit()  # What will happen now?"
   ]
  },
  {
   "cell_type": "code",
   "execution_count": null,
   "metadata": {},
   "outputs": [],
   "source": [
    "red_apple_from_Jumbo = Fruit(taste='tasty')\n",
    "red_apple_from_Jumbo.eat()  # Note that \"self\" is not passed as an argument!"
   ]
  },
  {
   "cell_type": "markdown",
   "metadata": {},
   "source": [
    "One final piece to know about objects is *inheritance*: making a new class from an old one."
   ]
  },
  {
   "cell_type": "code",
   "execution_count": null,
   "metadata": {},
   "outputs": [],
   "source": [
    "class Apple(Fruit):\n",
    "    def __init__(self, taste, color):\n",
    "        self.taste = taste\n",
    "        self.color = color\n",
    "\n",
    "green_apple = Apple('tasty', 'green')\n",
    "green_apple.eat()  # Because green_apple is also a Fruit!"
   ]
  },
  {
   "cell_type": "code",
   "execution_count": null,
   "metadata": {},
   "outputs": [],
   "source": [
    "type(green_apple)"
   ]
  },
  {
   "cell_type": "code",
   "execution_count": null,
   "metadata": {},
   "outputs": [],
   "source": [
    "print(\"green_apple is an Apple:\", isinstance(green_apple, Apple))\n",
    "print(\"green_apple is an Fruit:\", isinstance(green_apple, Fruit))"
   ]
  }
 ],
 "metadata": {
  "kernelspec": {
   "display_name": "Python 3",
   "language": "python",
   "name": "python3"
  },
  "language_info": {
   "codemirror_mode": {
    "name": "ipython",
    "version": 3
   },
   "file_extension": ".py",
   "mimetype": "text/x-python",
   "name": "python",
   "nbconvert_exporter": "python",
   "pygments_lexer": "ipython3",
   "version": "3.7.3"
  },
  "widgets": {
   "application/vnd.jupyter.widget-state+json": {
    "state": {},
    "version_major": 2,
    "version_minor": 0
   }
  }
 },
 "nbformat": 4,
 "nbformat_minor": 4
}
