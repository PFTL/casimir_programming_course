{
 "cells": [
  {
   "cell_type": "markdown",
   "metadata": {},
   "source": [
    "# Installing the course software on your laptop\n",
    "\n",
    "(bonus topic—only for those interested)"
   ]
  },
  {
   "cell_type": "markdown",
   "metadata": {},
   "source": [
    "**Here we cannot give detailed step-by-step instructions. We also cannot handle existing installations**\n",
    "\n",
    "First questions:\n",
    "* Do you already have something installed that you want to modify? \n",
    "  — if you can afford it, start with a clean state.\n",
    "* Getting python + scientific python packages  \n",
    "  Our recommendation: anaconda software distribution, get it at https://anaconda.org\n",
    "* Getting git+terminal\n",
    "  - Windows: https://git-scm.com/downloads (first Google hit for `git bash` query)\n",
    "  - Mac OS: https://git-scm.com/download/mac\n",
    "* Launch git bash, execute `git clone https://gitlab.kwant-project.org/pc/casimir_programming_course.git`"
   ]
  }
 ],
 "metadata": {
  "kernelspec": {
   "display_name": "Python 3",
   "language": "python",
   "name": "python3"
  },
  "language_info": {
   "codemirror_mode": {
    "name": "ipython",
    "version": 3
   },
   "file_extension": ".py",
   "mimetype": "text/x-python",
   "name": "python",
   "nbconvert_exporter": "python",
   "pygments_lexer": "ipython3",
   "version": "3.6.3"
  }
 },
 "nbformat": 4,
 "nbformat_minor": 2
}
