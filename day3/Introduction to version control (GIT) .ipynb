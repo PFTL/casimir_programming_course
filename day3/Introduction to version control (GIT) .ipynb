{
 "cells": [
  {
   "cell_type": "markdown",
   "metadata": {},
   "source": [
    "# Why do we need version control?\n"
   ]
  },
  {
   "cell_type": "markdown",
   "metadata": {},
   "source": [
    "## Because this.... \n",
    "<img src=\"img/phd_final_doc.png\" width=400x />\n",
    "\n",
    "## ... leads to this \n",
    "<img src=\"img/phd_story_told_infilenames.gif\" width=600x />"
   ]
  },
  {
   "cell_type": "markdown",
   "metadata": {},
   "source": [
    "# Version management best practices\n"
   ]
  },
  {
   "cell_type": "markdown",
   "metadata": {},
   "source": [
    "<div data-toggle=\"collapse\" data-target=\"#Why_verman\">\n",
    "<h2 style=\"margin-top:0\"> Why is version management important? <i class=\"pull-right fa fa-chevron-down\"></i></h2>\n",
    "<div id=\"Why_verman\" class=\"collapse\">\n",
    "\n",
    "<ul>\n",
    "<li>Possible to revert back to a working version if things broke</li>\n",
    "<li>Benefit team collaboration</li>\n",
    "<li>Improve efficiency </li>\n",
    "</ul>\n",
    "</div>\n",
    "\n",
    "</div>\n"
   ]
  },
  {
   "cell_type": "markdown",
   "metadata": {},
   "source": [
    "\n",
    "<div data-toggle=\"collapse\" data-target=\"#how_verman\">\n",
    "<h2 style=\"margin-top:0\"> How should we manage changes? <i class=\"pull-right fa fa-chevron-down\"></i></h2>\n",
    "<div id=\"how_verman\" class=\"collapse\">\n",
    "\n",
    "<h3> Keeping track of changes: </h3>\n",
    "<br/>\n",
    "<ul>\n",
    "<li>Back up (almost) everything created by a human as soon as it is created.</li>\n",
    "<li>Keep changes small.</li>\n",
    "<li>Share changes frequently.  </li>\n",
    "<li>Create, maintain and use a checklist for saving and sharing changes to the project. </li>\n",
    "<li>Store each project in a folder that is mirrored off the researchers' working machine.  \n",
    "</li>\n",
    "</ul>\n",
    "\n",
    "<br/>\n",
    "This list comes from \"Keeping track of changes\" in swcarpentry's paper \"<a href =https://swcarpentry.github.io/good-enough-practices-in-scientific-computing/> good-enough practices in scientific computing </a>\". \n",
    "\n",
    "</div>\n",
    "</div>"
   ]
  },
  {
   "cell_type": "markdown",
   "metadata": {},
   "source": [
    "## Exercise 1: Manual versioning \n",
    "\n",
    "Versions can be managed either by hand or by using a Version Control System (VCS). To illustrate the workings of a VCS we start an excercise using manual versioning. \n",
    "The goals of this excercise are: \n",
    "- Practice with versioning best practices\n",
    "- Understand the limitations of manual version management\n",
    "\n"
   ]
  },
  {
   "cell_type": "markdown",
   "metadata": {},
   "source": [
    "## 1A Setting up the project \n",
    "We have set up a shared folder on the Jupyter HUB used for this course that is accessible to all participants of the course. \n",
    "1. Go to the shared folder and create a folder named `simple_trigonometry_YOURNAME` where you replace YOURNAME with your name. This folder is your project folder. \n",
    "1. Add a file called `CHANGELOG.txt` to your project folder with timestamped changes to your project. \n",
    "1. Create a subfolder called `current` which is your latest version of your project. "
   ]
  },
  {
   "cell_type": "markdown",
   "metadata": {},
   "source": [
    "## 1B Single user version tracking \n",
    "\n",
    "Whenever you make a significant change \n",
    "1. Copy the entire project (`current` folder) to a directory that is datetimestamped. \n",
    "2. Update `CHANGELOG.txt` with a timestamped note on the changes. \n",
    "\n",
    "This will result in your project folder looking like this: \n",
    "```\n",
    ".\n",
    "|-- project_name\n",
    "|   -- current\n",
    "|       -- ...project content as described earlier...\n",
    "|   -- 171106_130000\n",
    "|       -- ...content of 'current' on Nov 6, 2017 1pm \n",
    "|   -- 171108_110000\n",
    "|       -- ...content of 'current' on Nov 8, 2017 11am \n",
    "```\n",
    "\n",
    "And your `CHANGELOG.txt` to look something like this: \n",
    "```\n",
    "## 2016-04-08\n",
    "\n",
    "* Switched to cubic interpolation as default.\n",
    "* Moved question about family's TB history to end of questionnaire.\n",
    "\n",
    "## 2016-04-06\n",
    "\n",
    "* Added option for cubic interpolation.\n",
    "* Removed question about staph exposure (can be inferred from blood test results).\n",
    "```"
   ]
  },
  {
   "cell_type": "markdown",
   "metadata": {},
   "source": [
    "`3.` Create a new file called `test.py` \n",
    "    * Add the text `print('hello world')` "
   ]
  },
  {
   "cell_type": "markdown",
   "metadata": {},
   "source": [
    "## 1C Practice basic version control using trigonometry\n",
    "\n",
    "Add your changes every time you finish a bulletpoint. \n",
    "* Add a function to test.py to calculate the circumference of a circle. Add your changes. \n",
    "* Add a function to test.py to calculate the surface area of a circle. Add your changes. \n",
    "* Create a new file called script.py that is empty. Add your changes. \n",
    "* Add some print statement to script.py and execute it. Add your changes. \n",
    "* Import test.py into script.py and call the functions in test.py and print the output. Add your changes. \n"
   ]
  },
  {
   "cell_type": "markdown",
   "metadata": {},
   "source": [
    "## 1D collaborating on a project, resolving conflicts\n",
    "\n",
    "\n",
    "### Find yourself a partner (ask person next to you) \n",
    "* Both agree on which of the two project folders you will continue to work \n",
    "\n",
    "### Creating and resolving a conflict \n",
    "* Person A will add a docstring (with the triple quotes) to the function that calculates the circumference of the circle.\n",
    "* Person B will add a docstring to the function that calculates the surface of the circle. \n",
    "* Both add your changes and ensure you end up with a single copy of the file in the `current` folder. \n",
    "\n",
    "### More practice (optional) \n",
    "* Both work on the same repository, use script.py to test your functionality. \n",
    "* Add a function that plots a circle \n",
    "* Add save to png functionality to the plot function\n",
    "* Make the plotting function more fancy (add units, labels etc) \n",
    "* Add surface calculation for other shapes (triangle, square, pentagon, hexagon ... ) \n",
    "* Add circumference calculation for same shapes. \n",
    "\n",
    "N.B. Once frustration sets in for enough people we will move on to GIT. "
   ]
  },
  {
   "cell_type": "markdown",
   "metadata": {},
   "source": [
    "### End of excercise 1"
   ]
  },
  {
   "cell_type": "markdown",
   "metadata": {},
   "source": [
    "## Problems with manual version control \n",
    "- It requires a lot of discipline \n",
    "- It is virtually impossible to resolve conflicts"
   ]
  },
  {
   "cell_type": "markdown",
   "metadata": {},
   "source": [
    "# What is Git ?\n",
    "\n",
    "\n",
    "## Git is a *distributed* version control system (VCS) that automates everything\n",
    "<img src=\"img/Git-Logo.png\" width=150 />  \n",
    "references: [git book](https://git-scm.com/book/en/v2)"
   ]
  },
  {
   "cell_type": "markdown",
   "metadata": {},
   "source": [
    "## VCS store all historical versions of a file \n",
    "Git stores differences called **commits**\n",
    "\n",
    "Commit diffs are human readable if you use text files (e.g., .txt, .py, .tex)\n",
    "\n",
    "<img src=\"https://git-scm.com/book/en/v2/book/01-introduction/images/local.png\" width=300 />  "
   ]
  },
  {
   "cell_type": "markdown",
   "metadata": {},
   "source": [
    "## Central authority \n",
    "For collaborating on code or papers it is useful to have a central authoritative version \n",
    "* Know what the latest version is \n",
    "* Know what other peopler are working on \n",
    "* Easier to maintain than emailing around versions\n",
    "<img src=\"https://git-scm.com/book/en/v2/book/01-introduction/images/centralized.png\" width=300 />\n"
   ]
  },
  {
   "cell_type": "markdown",
   "metadata": {},
   "source": [
    "\n",
    "## Git is a \"distributed\" VCS\n",
    "* Every copy of the repository contains the complete history \n",
    "* You can keep working if the internet is down \n",
    "* You don't lose your data (and history) if the server dies \n",
    "\n",
    "<img src=\"https://git-scm.com/book/en/v2/book/01-introduction/images/distributed.png\" width=400 />\n"
   ]
  },
  {
   "cell_type": "markdown",
   "metadata": {},
   "source": [
    "## GitHub is a possible web-based Git repository hosting service\n",
    "<img src=\"img/GitHub.jpg\" width=200 />\n",
    "\n",
    "* Web hosting \n",
    "* Free-private repositories for academic users \n",
    "* Conventient tools \n",
    "    * Diff viewer\n",
    "    * Commit browser \n",
    "    * etc\n",
    "    \n"
   ]
  },
  {
   "cell_type": "markdown",
   "metadata": {},
   "source": [
    "## Excercise 2: Basic single user git  \n",
    "\n",
    "* Setting up a new git repository using github + clone \n",
    "* A basic single user workflow involving: commiting, pulling and pushing your changes \n"
   ]
  },
  {
   "cell_type": "markdown",
   "metadata": {},
   "source": [
    "## 2A setting up a project\n",
    "* Create new repository on github. \n",
    "    * Go to GitHub and log in \n",
    "    * Click create a new repository \n",
    "    * Name it : \"Casimir-programming\"\n",
    "    * Add readme.md \n",
    "    * add [.gitignore](https://git-scm.com/docs/gitignore)\n",
    "    * add a license (e.g., MIT) (optional) "
   ]
  },
  {
   "cell_type": "markdown",
   "metadata": {},
   "source": [
    "* set up [ssh key](https://help.github.com/articles/generating-an-ssh-key/) to access your repository without entering a password\n",
    "  * In terminal type `ssh-keygen` and use the default key name (optionally choose a passphrase—recommended outside of this course)\n",
    "  * This bit is to avoid troubles windows users have with copying text from terminal. Copy the **public** key to your home directory: `cp ~/.ssh/id_rsa.pub ~`\n",
    "  * In the jupyter file browser open this file and copy all of its contents to a new key at https://github.com/settings/keys"
   ]
  },
  {
   "cell_type": "markdown",
   "metadata": {},
   "source": [
    "* **[clone](https://git-scm.com/docs/git-clone)** the repository in day3\n",
    "    * Open a terminal and navigate to the \"day3\" directory\n",
    "    * type: ``git clone <location_of_your_repository>`` (you can get the location using \"clone or download\" button)\n",
    "    * Cloning will create a copy of the entire repository in a new folder"
   ]
  },
  {
   "cell_type": "markdown",
   "metadata": {},
   "source": [
    "* Set up your git [config](https://git-scm.com/docs/git-config) \n",
    "    *   `git config --global user.email \"you@example.com\"`                \n",
    "    *   `git config --global user.name \"Your Name\"` \n",
    "    * You can check your config using `git config --list`. Use this to check if you are now pointing to your repository on GitHub"
   ]
  },
  {
   "cell_type": "markdown",
   "metadata": {},
   "source": [
    "## 2B My first commit \n",
    "* Create a new file called `test.py` \n",
    "    * Add the text `print('hello world')` \n",
    "* Commit and sync your changes \n",
    "    * Type `git status`\n",
    "    * Type `git add test.py`\n",
    "    * Type `git commit -m 'my first commit'`\n",
    "    * Type `git pull` \n",
    "    * Type `git push` \n",
    "* View the [commit history](https://git-scm.com/book/en/v2/Git-Basics-Viewing-the-Commit-History)\n",
    "    * Using the terminal \n",
    "        * Type `git log`. See if you understand what you see. \n",
    "        * Type `git log -p -2`. This shows the changes introduced by the last 2 commits \n",
    "        * Take a look at the [\"Viewing the Commit History](https://git-scm.com/book/en/v2/Git-Basics-Viewing-the-Commit-History) to see other useful options\n",
    "    * Using GitHub\n",
    "        * Click on Commits, open your latest commit. \n",
    "            * Click browse files to browse your code at the time of the commit. \n",
    "        * Go to Graphs/network, this shows you a line with all comits. \n",
    "            * Very useful once we move on to multi-user workflows. \n",
    "        * Open a file and check out [history](https://help.github.com/articles/differences-between-commit-views/)\n",
    "            * this shows a list of all commits that changed that specific file. \n",
    "        * Open a file and look at [blame](https://github.com/blog/228-playing-the-blame-game)\n",
    "    \n",
    "    "
   ]
  },
  {
   "cell_type": "markdown",
   "metadata": {},
   "source": [
    "## 2C Practice basic git using trigonometry\n",
    "\n",
    "Commit your changes every time you finish a bulletpoint. Use the flowchart shown below. \n",
    "* Add a function to test.py to calculate the circumference of a circle. Commit your changes. \n",
    "* Add a function to test.py to calculate the surface area of a circle. Commit your changes. \n",
    "* Create a new file called script.py that is empty. Commit your changes. \n",
    "* Add some print statement to script.py and execute it. Commit your changes. \n",
    "* Import test.py into script.py and call the functions in test.py and print the output. Commit your changes. \n",
    "\n",
    "* Take a look at your repository on GitHub to see an overview of your work"
   ]
  },
  {
   "cell_type": "markdown",
   "metadata": {},
   "source": [
    "### End of excercise 2"
   ]
  },
  {
   "cell_type": "markdown",
   "metadata": {},
   "source": [
    "## Git-Flow chart\n",
    "There is a git flowchart (in pdf, pptx and png) in the day3/img folder.  \n",
    "**! N.B. Avoid using the GitHub App, it gets you into all kinds of trouble! **\n",
    "\n",
    "<img src=\"img/GitFlowchart.png\" width=800 />"
   ]
  },
  {
   "cell_type": "markdown",
   "metadata": {},
   "source": [
    "## Excercise 3: Multiple users, resolving conflicts \n",
    "\n",
    "* Working with multiple users on a single branch\n",
    "* Resolving conflicts\n"
   ]
  },
  {
   "cell_type": "markdown",
   "metadata": {},
   "source": [
    "\n",
    "### Find yourself a partner (ask person next to you) \n",
    "### Add your partner as a collaborator \n",
    "* Go to the repository of person A on github. \n",
    "* Go to settings/collaborators. Enter the GitHub ID of person Band make them a collaborator (write access). \n",
    "* Person B clones the repository of person A (look at exercise 1a if you forgot) \n",
    "\n",
    "### Creating and resolving a conflict \n",
    "* Both persons will add a docstring (with the triple quotes) to the function that calculates the surface of the circle\n",
    "* Person A commits pulls and pushes. \n",
    "* Person B commits and pulls, this will raise a conflict. Resolve this conflict. \n",
    "* Look at the GitHub network graph to see what happened. \n",
    "\n",
    "### More practice \n",
    "* Both work on the same repository, use script.py to test your functionality. \n",
    "* Add a function that plots a circle \n",
    "* Add save to png functionality to the plot function\n",
    "* Make the plotting function more fancy (add units, labels etc) \n",
    "* Add surface calculation for other shapes (triangle, square, pentagon, hexagon ... ) \n",
    "* Add circumference calculation for same shapes. \n",
    "\n"
   ]
  }
 ],
 "metadata": {
  "kernelspec": {
   "display_name": "Python 3",
   "language": "python",
   "name": "python3"
  },
  "language_info": {
   "codemirror_mode": {
    "name": "ipython",
    "version": 3
   },
   "file_extension": ".py",
   "mimetype": "text/x-python",
   "name": "python",
   "nbconvert_exporter": "python",
   "pygments_lexer": "ipython3",
   "version": "3.6.3"
  }
 },
 "nbformat": 4,
 "nbformat_minor": 1
}
