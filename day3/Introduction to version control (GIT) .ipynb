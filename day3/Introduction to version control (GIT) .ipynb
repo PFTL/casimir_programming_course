{
 "cells": [
  {
   "cell_type": "markdown",
   "metadata": {},
   "source": [
    "# Why do we need version control?\n"
   ]
  },
  {
   "cell_type": "markdown",
   "metadata": {},
   "source": [
    "## Because this.... \n",
    "<img src=\"img/phd_final_doc.png\", width=400x>\n",
    "\n",
    "## ... leads to this \n",
    "<img src=\"img/phd_story_told_infilenames.gif\", width=600x>"
   ]
  },
  {
   "cell_type": "markdown",
   "metadata": {},
   "source": [
    "## Version Control  \n",
    "* Keep all historical versions for easy tracking\n",
    "* Benefit team collaboration \n",
    "* Improve efficiency "
   ]
  },
  {
   "cell_type": "markdown",
   "metadata": {},
   "source": [
    "# What is Git ?\n",
    "\n",
    "\n",
    "## Git is a *diff* based *distributed* version control system (VCS)\n",
    "<img src=\"img/Git-Logo.png\", width=150>  \n",
    "references: [git book](https://git-scm.com/book/en/v2)"
   ]
  },
  {
   "cell_type": "markdown",
   "metadata": {},
   "source": [
    "## VCS store all historical versions of a file \n",
    "Git stores differences called **comits**\n",
    "\n",
    "Commit diffs are human readable if you use text files (e.g., .txt, .py, .tex)\n",
    "\n",
    "<img src=\"https://git-scm.com/book/en/v2/book/01-introduction/images/local.png\", width=300>  "
   ]
  },
  {
   "cell_type": "markdown",
   "metadata": {},
   "source": [
    "## Central authority \n",
    "For Collaborating on code or papers it is useful to have a central authoritative version \n",
    "* Know what the latest version is \n",
    "* Know what other peopler are working on \n",
    "* Easier to maintain than emailing around versions\n",
    "<img src=\"https://git-scm.com/book/en/v2/book/01-introduction/images/centralized.png\", width=300>\n"
   ]
  },
  {
   "cell_type": "markdown",
   "metadata": {},
   "source": [
    "\n",
    "## Git is a \"distributed\" VCS\n",
    "* Every copy of the repository contains the complete history \n",
    "* You can keep working if the internet is down \n",
    "* You don't lose your data (and history) if the server dies \n",
    "\n",
    "<img src=\"https://git-scm.com/book/en/v2/book/01-introduction/images/distributed.png\", width=400>\n"
   ]
  },
  {
   "cell_type": "markdown",
   "metadata": {},
   "source": [
    "## GitHub is a possible web-based Git repository hosting service\n",
    "<img src=\"img/GitHub.jpg\", width=200>\n",
    "\n",
    "* Web hosting \n",
    "* Free-private repositories for academic users \n",
    "* Conventient tools \n",
    "    * Diff viewer\n",
    "    * Commit browser \n",
    "    * etc\n",
    "    \n"
   ]
  },
  {
   "cell_type": "markdown",
   "metadata": {},
   "source": [
    "## Excercise 1: Basic single user git  \n",
    "\n",
    "* Setting up a new git repository using github + clone \n",
    "* A basic single user workflow involving: commiting, pulling and pushing your changes \n"
   ]
  },
  {
   "cell_type": "markdown",
   "metadata": {},
   "source": [
    "## 1A setting up a repository\n",
    "* Create new repository on github. \n",
    "    * Go to GitHub and log in \n",
    "    * Click create a new repository \n",
    "    * Name it : \"Casimir-programming\"\n",
    "    * Add readme.md \n",
    "    * add [.gitignore](https://git-scm.com/docs/gitignore)\n",
    "    * add a license (e.g., MIT) (optional) \n",
    "* **[clone](https://git-scm.com/docs/git-clone)** the repository in day3\n",
    "    * Open a terminal and navigate to the \"day3\" directory\n",
    "    * type: ``git clone https://github.com/YOURUSERNAME/Casimir-programming``\n",
    "    * Cloning will create a copy of the entire repository in a new folder\n",
    "* Set up your git [config](https://git-scm.com/docs/git-config) \n",
    "    *   `git config --global user.email \"you@example.com\"`                                                                                  \n",
    "    *   `git config --global user.name \"Your Name\"` \n",
    "    *   (optional) set up [ssh key](https://help.github.com/articles/generating-an-ssh-key/) (automated login) \n",
    "    * You can check your config using `git config --list`. Use this to check if you are now pointing to your repository on GitHub"
   ]
  },
  {
   "cell_type": "markdown",
   "metadata": {},
   "source": [
    "## 1B My first commit \n",
    "* Create a new file called `test.py` \n",
    "    * Add the text `print('hello world')` \n",
    "* Commit and sync your changes \n",
    "    * Type `git status`\n",
    "    * Type `git commit -m 'my first commit'`\n",
    "    * Type `git pull` \n",
    "    * Type `git push` \n",
    "* View the [commit history](https://git-scm.com/book/en/v2/Git-Basics-Viewing-the-Commit-History)\n",
    "    * Using the terminal \n",
    "        * Type `git log`. See if you understand what you see. \n",
    "        * Type `git log -p -2`. This shows the changes introduced by the last 2 commits \n",
    "        * Take a look at the [\"Viewing the Commit History](https://git-scm.com/book/en/v2/Git-Basics-Viewing-the-Commit-History) to see other useful options\n",
    "    * Using GitHub\n",
    "        * Click on Commits, open your latest commit. \n",
    "            * Click browse files to browse your code at the time of the commit. \n",
    "        * Go to Graphs/network, this shows you a line with all comits. \n",
    "            * Very useful once we move on to multi-user workflows. \n",
    "        * Open a file and check out [history](https://help.github.com/articles/differences-between-commit-views/)\n",
    "            * this shows a list of all commits that changed that specific file. \n",
    "        * Open a file and look at [blame](https://github.com/blog/228-playing-the-blame-game)\n",
    "    \n",
    "    "
   ]
  },
  {
   "cell_type": "markdown",
   "metadata": {},
   "source": [
    "## 1C Practice basic git using trigonometry\n",
    "\n",
    "Commit your changes every time you finish a bulletpoint. Use the flowchart shown below. \n",
    "* Add a function to test.py to calculate the circumference of a circle. Commit your changes. \n",
    "* Add a function to test.py to calculate the surface area of a circle. Commit your changes. \n",
    "* Create a new file called script.py that is empty. Commit your changes. \n",
    "* Add some print statement to script.py and execute it. Commit your changes. \n",
    "* Import test.py into script.py and call the functions in test.py and print the output. Commit your changes. \n",
    "\n",
    "* Take a look at your repository on GitHub to see an overview of your work"
   ]
  },
  {
   "cell_type": "markdown",
   "metadata": {},
   "source": [
    "## Git-Flow chart\n",
    "There is a git flowchart (in pdf, pptx and png) in the day3/img folder.  \n",
    "**! N.B. Avoid using the GitHub App, it gets you into all kinds of trouble! **\n",
    "\n",
    "<img src=\"img/GitFlowchart.png\", width=800>"
   ]
  },
  {
   "cell_type": "markdown",
   "metadata": {},
   "source": [
    "## Excercise 2: Multiple users, resolving conflicts \n",
    "\n",
    "* Working with multiple users on a single branch\n",
    "* Resolving conflicts\n"
   ]
  },
  {
   "cell_type": "markdown",
   "metadata": {},
   "source": [
    "\n",
    "### Find yourself a partner (ask person next to you) \n",
    "### Add your partner as a collaborator \n",
    "* Go to the repository of person A on github. \n",
    "* Go to settings/collaborators. Enter the GitHub ID of person Band make them a collaborator (write access). \n",
    "* Person B clones the repository of person A (look at excercise 1a if you forgot) \n",
    "\n",
    "### Creating and resolving a conflict \n",
    "* Both persons will add a docstring (with the triple quotes) to the function that calculates the surface of the circle\n",
    "* Person A commits pulls and pushes. \n",
    "* Person B commits and pulls, this will raise a conflict. Resolve this conflict. \n",
    "* Look at the GitHub network graph to see what happened. \n",
    "\n",
    "### More practice \n",
    "* Both work on the same repository \n",
    "* Add a function that plots a circle \n",
    "* Make the plotting function more fancy (add units, labels etc) \n",
    "* Add surface calculation for other shapes (triangle, square, pentagon, hexagon ... ) \n",
    "* Add circumference calculation for same shapes. \n",
    "\n"
   ]
  }
 ],
 "metadata": {
  "kernelspec": {
   "display_name": "Python 3",
   "language": "python",
   "name": "python3"
  },
  "language_info": {
   "codemirror_mode": {
    "name": "ipython",
    "version": 3
   },
   "file_extension": ".py",
   "mimetype": "text/x-python",
   "name": "python",
   "nbconvert_exporter": "python",
   "pygments_lexer": "ipython3",
   "version": "3.5.1"
  },
  "widgets": {
   "state": {},
   "version": "1.1.1"
  }
 },
 "nbformat": 4,
 "nbformat_minor": 0
}
