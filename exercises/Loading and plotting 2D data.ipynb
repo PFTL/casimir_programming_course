{
 "cells": [
  {
   "cell_type": "markdown",
   "metadata": {},
   "source": [
    "# Loading and plotting 2D data in various ways"
   ]
  },
  {
   "cell_type": "markdown",
   "metadata": {},
   "source": [
    "In this exercise you will use python to read (real!) data from a file, and plot it in various ways. For this you will use the python packages [numpy](http://docs.scipy.org/doc/numpy/) and [matplotlib](http://matplotlib.org/contents.html).\n",
    "\n",
    "In particular, you will work with 2D data, i.e. data that depends on two parameters. Such data is often stored using three arrays: Two 1D arrays ``X`` and ``Y``, and one 2D array ``C`` such that for the parameters ``X[i]`` and ``Y[j]`` the data is stored in ``C[j, i]`` (Note the order of ``i`` and ``j`` here - in this convention the x-coordinate in the matrix is along the rows, i.e.  varying the column index).\n",
    "\n",
    "In this exercise, you will work with two sets of 2D data, ``Rxx`` and ``RH``, that depend on the same parameters (For those who are interested, I give a background below. It's not necessary to understand that background, though). \n",
    "\n",
    "Depending on your ambition, you can load the data in an easy way (where we did the work for you), or doing it the harder way from the raw data. "
   ]
  },
  {
   "cell_type": "markdown",
   "metadata": {},
   "source": [
    "#### Easy way "
   ]
  },
  {
   "cell_type": "markdown",
   "metadata": {},
   "source": [
    "The files ``x_range.dat`` and ``y_range.dat`` contain the values of the `x` and `y` parameters, and ``Rxx.dat`` and ``RH.dat`` are the two different sets of data for the same parameters. Those files are formatted in a way that you can simply load them with ``numpy.loadtxt``. "
   ]
  },
  {
   "cell_type": "markdown",
   "metadata": {},
   "source": [
    "#### Harder way"
   ]
  },
  {
   "cell_type": "markdown",
   "metadata": {},
   "source": [
    "The file ``landaufan.dat`` contains the raw data. The first column is the `x` parameter, the second column is the `y` parameter, the fourth column is ``Rxx``, and the fifth column is ``RH``. \n",
    "\n",
    "There are also rows without data, such as comment lines starting with a ``#``. Read the data from the file, and make a 2D numpy array for ``Rxx`` and ``RH``."
   ]
  },
  {
   "cell_type": "markdown",
   "metadata": {},
   "source": [
    "#### Tasks"
   ]
  },
  {
   "cell_type": "markdown",
   "metadata": {},
   "source": [
    "* Load the data\n",
    "* Make a 2D plot of the data using ``matplotlib``. Check the functions ``pcolor``, ``pcolormesh`` and ``imshow``\n",
    "* Plot linecuts through the data, i.e. depending only on one parameter, keeping the other parameter fixed\n",
    "* Plot a set of line cuts in one plot (use loops)\n",
    "* Plot line cuts from both data sets into one plot\n",
    "* Plot the data as is or divided by 12906.\n",
    "* Be creative!"
   ]
  },
  {
   "cell_type": "markdown",
   "metadata": {},
   "source": [
    "#### Physics background"
   ]
  },
  {
   "cell_type": "markdown",
   "metadata": {},
   "source": [
    "The data was measured by Arjan Beukmann. He measured the longitudinal resistance (``Rxx`` in units of Ohms) and the Hall resistance (``RH`` in units of Ohms) as a function of gate voltage (``X``) and magnetic field (``Y`` in Tesla)."
   ]
  },
  {
   "cell_type": "code",
   "execution_count": null,
   "metadata": {
    "collapsed": true
   },
   "outputs": [],
   "source": []
  }
 ],
 "metadata": {
  "kernelspec": {
   "display_name": "Python 3",
   "language": "python",
   "name": "python3"
  },
  "language_info": {
   "codemirror_mode": {
    "name": "ipython",
    "version": 3
   },
   "file_extension": ".py",
   "mimetype": "text/x-python",
   "name": "python",
   "nbconvert_exporter": "python",
   "pygments_lexer": "ipython3",
   "version": "3.4.3+"
  }
 },
 "nbformat": 4,
 "nbformat_minor": 0
}
