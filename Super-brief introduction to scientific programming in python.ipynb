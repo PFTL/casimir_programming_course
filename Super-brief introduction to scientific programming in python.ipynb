{
 "cells": [
  {
   "cell_type": "markdown",
   "metadata": {},
   "source": [
    "# Basic python in a nutshell"
   ]
  },
  {
   "cell_type": "markdown",
   "metadata": {},
   "source": [
    "There are many excellent introductions to python prgramming on the web. This document is not supposed to replace them, but only to introduce some basic concepts to get you started. To get more in-depth knowledge on python, just google for it\n",
    "\n",
    "I will assume that you have basic knowledge about programming (so you know what a variable or a loop is). \n",
    "\n",
    "The intention of this document is that you can already get some idea of python in advance. It is not comprehensive, but the hands-on tutorials will also introduce new functionalities if needed."
   ]
  },
  {
   "cell_type": "markdown",
   "metadata": {},
   "source": [
    "## How to use the ipython notebook"
   ]
  },
  {
   "cell_type": "markdown",
   "metadata": {},
   "source": [
    "In the hands-on tutorial, we will make use of IPython notebooks. Essentially, an IPython notebook is just a\n",
    "browser-based environment for executing python code. It additionally allows to add some structure to the notebook, i.e. \n",
    "add nice text with formulas, figures, etc., all rendered by the browser.\n",
    "\n",
    "Code is executed in cells, which are grey boxes with ``In [ ]:`` in front. To execute a cell, click in it and\n",
    "type ``Shift + ENTER``. Try this in the following two boxes:"
   ]
  },
  {
   "cell_type": "code",
   "execution_count": null,
   "metadata": {
    "collapsed": false
   },
   "outputs": [],
   "source": [
    "x = 1"
   ]
  },
  {
   "cell_type": "code",
   "execution_count": null,
   "metadata": {
    "collapsed": false
   },
   "outputs": [],
   "source": [
    "print x"
   ]
  },
  {
   "cell_type": "markdown",
   "metadata": {},
   "source": [
    "One thing to note about IPython notebooks is that code in cells are executed in the order you execute cells.\n",
    "This is in fact the same behavior that Mathematica has (for those who know Mathematica). What this means you can see by\n",
    "evaluating the next cell, and then evaluating the cell with ``print x`` above again."
   ]
  },
  {
   "cell_type": "code",
   "execution_count": null,
   "metadata": {
    "collapsed": false
   },
   "outputs": [],
   "source": [
    "x = 2"
   ]
  },
  {
   "cell_type": "markdown",
   "metadata": {},
   "source": [
    "You see that now the ``print`` statement writes ``2`` to the screen. The code is really as if you executed\n",
    "\n",
    "    x = 1\n",
    "    print x\n",
    "    x = 2\n",
    "    print x\n",
    "\n",
    "You will also note that the number in the preceding ``In [ ]`` has changed: This number gives the order in which the cells were evaluated. Again, for those who know Mathematica this will feel familiar."
   ]
  },
  {
   "cell_type": "markdown",
   "metadata": {},
   "source": [
    "Otherwise the IPython notebook does have a quite intuitive interface. Don't forget to save from time to time (although there is also an autosave) by clicking on the save button (with the floppy disk symbol). You can also insert cells, delete cells, etc. If you wish to learn more about the ipython notebook, click on Help above for a tour or keyboard short-cuts."
   ]
  },
  {
   "cell_type": "markdown",
   "metadata": {},
   "source": [
    "## Basics about the python language"
   ]
  },
  {
   "cell_type": "markdown",
   "metadata": {},
   "source": [
    "### Variables"
   ]
  },
  {
   "cell_type": "markdown",
   "metadata": {},
   "source": [
    "We already saw how to create a variable and assign a value to it:"
   ]
  },
  {
   "cell_type": "code",
   "execution_count": null,
   "metadata": {
    "collapsed": false
   },
   "outputs": [],
   "source": [
    "x = 1"
   ]
  },
  {
   "cell_type": "markdown",
   "metadata": {},
   "source": [
    "In contrast to a compiled language like C, the type of a variable is not fixed in advance. With the above statement, the varible is an integer:"
   ]
  },
  {
   "cell_type": "code",
   "execution_count": null,
   "metadata": {
    "collapsed": false
   },
   "outputs": [],
   "source": [
    "print type(x)"
   ]
  },
  {
   "cell_type": "markdown",
   "metadata": {},
   "source": [
    "But I can just assign a different value, and the type will change:"
   ]
  },
  {
   "cell_type": "code",
   "execution_count": null,
   "metadata": {
    "collapsed": false
   },
   "outputs": [],
   "source": [
    "x = 1.0\n",
    "print type(x)"
   ]
  },
  {
   "cell_type": "code",
   "execution_count": null,
   "metadata": {
    "collapsed": false
   },
   "outputs": [],
   "source": [
    "x = \"A string\"\n",
    "print type(x)"
   ]
  },
  {
   "cell_type": "code",
   "execution_count": null,
   "metadata": {
    "collapsed": false
   },
   "outputs": [],
   "source": [
    "x = 1 + 1j\n",
    "print type(x)"
   ]
  },
  {
   "cell_type": "markdown",
   "metadata": {},
   "source": [
    "Note that above we already introduced a complex number."
   ]
  },
  {
   "cell_type": "markdown",
   "metadata": {},
   "source": [
    "### Math"
   ]
  },
  {
   "cell_type": "markdown",
   "metadata": {},
   "source": [
    "Operations on variables are quite intuitive, and also work for complex numbers. Note that you can also mix variables of different ype."
   ]
  },
  {
   "cell_type": "code",
   "execution_count": null,
   "metadata": {
    "collapsed": false
   },
   "outputs": [],
   "source": [
    "a = 1.1\n",
    "b = 2.0 + 1j\n",
    "c = 3.1 + 1.3j\n",
    "\n",
    "print a * 2\n",
    "print a + b\n",
    "print c * b"
   ]
  },
  {
   "cell_type": "markdown",
   "metadata": {},
   "source": [
    "Taking the power of a number is denoted by ``**`` (and *not* ``^`` as in other languages), and works for any power:"
   ]
  },
  {
   "cell_type": "code",
   "execution_count": null,
   "metadata": {
    "collapsed": false
   },
   "outputs": [],
   "source": [
    "print a ** 2\n",
    "print a ** 0.5\n",
    "print c ** -0.7"
   ]
  },
  {
   "cell_type": "markdown",
   "metadata": {},
   "source": [
    "To point out a difference to ``julia``: The imaginary unit is denoted by ``1j``, not just ``j``:"
   ]
  },
  {
   "cell_type": "code",
   "execution_count": null,
   "metadata": {
    "collapsed": false
   },
   "outputs": [],
   "source": [
    "1j**2"
   ]
  },
  {
   "cell_type": "code",
   "execution_count": null,
   "metadata": {
    "collapsed": false
   },
   "outputs": [],
   "source": [
    "j**2"
   ]
  },
  {
   "cell_type": "markdown",
   "metadata": {},
   "source": [
    "(you could have a variable called ``j``, though. But this could be anything.)"
   ]
  },
  {
   "cell_type": "markdown",
   "metadata": {},
   "source": [
    "If you want to use elementary functions such as sqrt or sin, you first have to import them:"
   ]
  },
  {
   "cell_type": "code",
   "execution_count": null,
   "metadata": {
    "collapsed": false
   },
   "outputs": [],
   "source": [
    "from math import sin, sqrt\n",
    "\n",
    "print sqrt(a)\n",
    "print sin(a)"
   ]
  },
  {
   "cell_type": "markdown",
   "metadata": {},
   "source": [
    "To act on complex numbers, you need to import from cmath:"
   ]
  },
  {
   "cell_type": "code",
   "execution_count": null,
   "metadata": {
    "collapsed": false
   },
   "outputs": [],
   "source": [
    "from cmath import sin, exp\n",
    "\n",
    "print sin(b)\n",
    "print exp(1j * a)"
   ]
  },
  {
   "cell_type": "markdown",
   "metadata": {},
   "source": [
    "### Lists and dictionaries"
   ]
  },
  {
   "cell_type": "markdown",
   "metadata": {},
   "source": [
    "Python lists can hold a number of different values. They are a bit like arrays in other languges, but the entries in the list can be of different type."
   ]
  },
  {
   "cell_type": "code",
   "execution_count": null,
   "metadata": {
    "collapsed": false
   },
   "outputs": [],
   "source": [
    "some_list = [1, \"test\", 1+1j]"
   ]
  },
  {
   "cell_type": "markdown",
   "metadata": {},
   "source": [
    "An entry in a list is accessed by its index. The first element starts at 0 (this is different from julia again)."
   ]
  },
  {
   "cell_type": "code",
   "execution_count": null,
   "metadata": {
    "collapsed": false
   },
   "outputs": [],
   "source": [
    "print some_list[0]\n",
    "print some_list[2]"
   ]
  },
  {
   "cell_type": "markdown",
   "metadata": {},
   "source": [
    "One can add and delete elements in the list, and ask for its length:"
   ]
  },
  {
   "cell_type": "code",
   "execution_count": null,
   "metadata": {
    "collapsed": false
   },
   "outputs": [],
   "source": [
    "del some_list[2]\n",
    "print some_list\n",
    "some_list.append(1.0)\n",
    "print some_list\n",
    "print \"List has\", len(some_list), \"elements\""
   ]
  },
  {
   "cell_type": "markdown",
   "metadata": {},
   "source": [
    "A neat feature is that you can also address several elements at a time using the ``start:stop`` or ``start:stop:step`` syntax:"
   ]
  },
  {
   "cell_type": "code",
   "execution_count": null,
   "metadata": {
    "collapsed": false
   },
   "outputs": [],
   "source": [
    "some_list = [0, 1, 2, 3, 4, 5, 6, 7, 8, 9]\n",
    "\n",
    "print some_list[2:5]\n",
    "print some_list[::2]"
   ]
  },
  {
   "cell_type": "markdown",
   "metadata": {},
   "source": [
    "(If start, stop are omitted, it assumes you want to go from the beginning to the end)"
   ]
  },
  {
   "cell_type": "markdown",
   "metadata": {},
   "source": [
    "Lists are indexed by consecutive integers. Another useful container in python is a dictionary which can use many (so-called immutable) objects as an \"index\":"
   ]
  },
  {
   "cell_type": "code",
   "execution_count": null,
   "metadata": {
    "collapsed": false
   },
   "outputs": [],
   "source": [
    "some_dict = {1: \"some entry\", \"key\": 1.0}\n",
    "\n",
    "print some_dict[\"key\"]\n",
    "some_dict[8] = \"something\"\n",
    "del some_dict[1]\n",
    "print some_dict"
   ]
  },
  {
   "cell_type": "markdown",
   "metadata": {},
   "source": [
    "### Loops"
   ]
  },
  {
   "cell_type": "markdown",
   "metadata": {},
   "source": [
    "A loop in python is written as:"
   ]
  },
  {
   "cell_type": "code",
   "execution_count": null,
   "metadata": {
    "collapsed": false
   },
   "outputs": [],
   "source": [
    "for i in xrange(10):\n",
    "    print i"
   ]
  },
  {
   "cell_type": "markdown",
   "metadata": {},
   "source": [
    "Note that in python indenting (whitespace) *is* essential: Everything that is indented to the same level belongs to the same  block -- in the above example to the ``for`` loop. So the following two examples are different:"
   ]
  },
  {
   "cell_type": "code",
   "execution_count": null,
   "metadata": {
    "collapsed": false
   },
   "outputs": [],
   "source": [
    "a = 0\n",
    "for i in xrange(10):\n",
    "    a += i\n",
    "    print a"
   ]
  },
  {
   "cell_type": "code",
   "execution_count": null,
   "metadata": {
    "collapsed": false
   },
   "outputs": [],
   "source": [
    "a = 0\n",
    "for i in xrange(10):\n",
    "    a += i\n",
    "print a"
   ]
  },
  {
   "cell_type": "markdown",
   "metadata": {},
   "source": [
    "In the latter case it is actually advisable to add an empty line to visually separate the ``print`` statement from the loop."
   ]
  },
  {
   "cell_type": "markdown",
   "metadata": {},
   "source": [
    "In fact, the ``for`` loop can run over any list (more precisely, any iterable, but just google this yourself):"
   ]
  },
  {
   "cell_type": "code",
   "execution_count": null,
   "metadata": {
    "collapsed": false
   },
   "outputs": [],
   "source": [
    "some_list = [1, \"text\", 5, 1.0]\n",
    "\n",
    "for entry in some_list:\n",
    "    print entry"
   ]
  },
  {
   "cell_type": "markdown",
   "metadata": {},
   "source": [
    "Loops can of course also be nested:"
   ]
  },
  {
   "cell_type": "code",
   "execution_count": null,
   "metadata": {
    "collapsed": false
   },
   "outputs": [],
   "source": [
    "N = 2\n",
    "for i in xrange(N):\n",
    "    for j in xrange(N):\n",
    "        print i, j"
   ]
  },
  {
   "cell_type": "markdown",
   "metadata": {},
   "source": [
    "If you want to start the loop not from zero, type ``help(xrange)`` to get more information about the syntax. You can get help on any python statement in that way."
   ]
  },
  {
   "cell_type": "code",
   "execution_count": null,
   "metadata": {
    "collapsed": false
   },
   "outputs": [],
   "source": []
  },
  {
   "cell_type": "markdown",
   "metadata": {},
   "source": [
    "### Functions"
   ]
  },
  {
   "cell_type": "markdown",
   "metadata": {},
   "source": [
    "A function is defined through:"
   ]
  },
  {
   "cell_type": "code",
   "execution_count": null,
   "metadata": {
    "collapsed": false
   },
   "outputs": [],
   "source": [
    "def some_function(x, y):\n",
    "    c = x + y\n",
    "    return c"
   ]
  },
  {
   "cell_type": "code",
   "execution_count": null,
   "metadata": {
    "collapsed": false
   },
   "outputs": [],
   "source": [
    "print some_function(1, 3)\n",
    "print some_function(1, 1.4)"
   ]
  },
  {
   "cell_type": "markdown",
   "metadata": {},
   "source": [
    "Again, the indenting tells what belongs to the function and what not."
   ]
  },
  {
   "cell_type": "markdown",
   "metadata": {},
   "source": [
    "Python also allows for default values for functions, and using the variable name to pass a value to the function"
   ]
  },
  {
   "cell_type": "code",
   "execution_count": null,
   "metadata": {
    "collapsed": false
   },
   "outputs": [],
   "source": [
    "def another_function(x, y=10):\n",
    "    print \"x =\", x\n",
    "    print \"y =\", y\n",
    "    print\n",
    "    \n",
    "another_function(1)\n",
    "another_function(y=1, x=10)"
   ]
  },
  {
   "cell_type": "markdown",
   "metadata": {},
   "source": [
    "## Scientific programming in python: A linear algebra example"
   ]
  },
  {
   "cell_type": "markdown",
   "metadata": {},
   "source": [
    "One of the big advantages of python is that there exist a large number of python packages for scientific programming. Many of these are based on state of the art numerical libraries (written in C or Fortran), but on top of that offer a nice and intuitive interface.\n",
    "\n",
    "The most useful ones for our purposes in the lecture are ``numpy`` (efficient matrices and arrays) and ``scipy`` (linear algebra, but also much much more!)"
   ]
  },
  {
   "cell_type": "markdown",
   "metadata": {},
   "source": [
    "### Arrays and matrices in python: ``numpy``"
   ]
  },
  {
   "cell_type": "markdown",
   "metadata": {},
   "source": [
    "To use ``numpy``, we first have to import it:"
   ]
  },
  {
   "cell_type": "code",
   "execution_count": null,
   "metadata": {
    "collapsed": false
   },
   "outputs": [],
   "source": [
    "import numpy as np"
   ]
  },
  {
   "cell_type": "markdown",
   "metadata": {},
   "source": [
    "The ``as np`` is just to save some typing.\n",
    "\n",
    "We can now easily make arrays/matrices of various dimensions:"
   ]
  },
  {
   "cell_type": "code",
   "execution_count": null,
   "metadata": {
    "collapsed": false
   },
   "outputs": [],
   "source": [
    "# 1D array (vector)\n",
    "a = np.array([1, 2, 3, 4])\n",
    "print \"vector of size:\", a.shape\n",
    "\n",
    "# 2D array (matrix)\n",
    "b = np.array([[1, 3],\n",
    "              [2, 4]])\n",
    "print \"matrix of size:\", b.shape"
   ]
  },
  {
   "cell_type": "markdown",
   "metadata": {},
   "source": [
    "Note that indexing in these arrays starts from 0 (just as in C) and not from 1! Correspondingly, for an array with\n",
    "N entries, the last entry has index N-1:"
   ]
  },
  {
   "cell_type": "code",
   "execution_count": null,
   "metadata": {
    "collapsed": false
   },
   "outputs": [],
   "source": [
    "print a[0], a[3]\n",
    "print b[0, 0], b[1, 1]\n",
    "print a[:2]\n",
    "print \"This is the first column of b:\", b[:, 0]"
   ]
  },
  {
   "cell_type": "markdown",
   "metadata": {},
   "source": [
    "You can do basic operations with ``numpy`` arrays in a intuitive way:"
   ]
  },
  {
   "cell_type": "code",
   "execution_count": null,
   "metadata": {
    "collapsed": false
   },
   "outputs": [],
   "source": [
    "c = b + b * 2 + 1\n",
    "print c"
   ]
  },
  {
   "cell_type": "markdown",
   "metadata": {},
   "source": [
    "There are some slightly subtle aspects with ``numpy``: By default, numpy acts element-wise, and a statement like\n",
    "    b + 1\n",
    "adds ``1`` to every entry in the matrix, and not the unit matrix as you might have expected (Check the docs at http://docs.scipy.org/doc/ to find out how to make a unit matrix!). Anyways, in the hands-on tutorials you are not likely to stumble across things like that."
   ]
  },
  {
   "cell_type": "markdown",
   "metadata": {},
   "source": [
    "### Linear algebra in python: ``scipy``"
   ]
  },
  {
   "cell_type": "markdown",
   "metadata": {},
   "source": [
    "Scipy is great, it offers access to a very large amount of established scientific libraries such as LAPACK, while adding a nice interface and also more fucntionality.\n",
    "\n",
    "For example, computing eigenvalues and eigenvectors is just a matter of"
   ]
  },
  {
   "cell_type": "code",
   "execution_count": null,
   "metadata": {
    "collapsed": false
   },
   "outputs": [],
   "source": [
    "import scipy.linalg as la\n",
    "\n",
    "a = np.array([[1, 2],\n",
    "              [3, 4]])\n",
    "\n",
    "eval, evec = la.eig(a)\n",
    "\n",
    "print \"eigenvalues:\"\n",
    "print eval\n",
    "print \"eigenvectors\"\n",
    "print evec"
   ]
  },
  {
   "cell_type": "markdown",
   "metadata": {},
   "source": [
    "If you want to know more, for example if eigenvectors are stored in this example by row or column, just consult the extensive numpy and scipy documentation at http://docs.scipy.org/doc/"
   ]
  },
  {
   "cell_type": "markdown",
   "metadata": {},
   "source": [
    "### Plotting"
   ]
  },
  {
   "cell_type": "markdown",
   "metadata": {},
   "source": [
    "There also is a fairly standard library for plotting in python: matplotlib"
   ]
  },
  {
   "cell_type": "code",
   "execution_count": null,
   "metadata": {
    "collapsed": false
   },
   "outputs": [],
   "source": [
    "%matplotlib inline\n",
    "import matplotlib.pyplot as plt"
   ]
  },
  {
   "cell_type": "markdown",
   "metadata": {},
   "source": [
    "The first cell magic ``%matplotlib inline`` just makes the plot appear in the browser (without it, an extra window would open). Matplotlib has many plotting routines, but all of them are quite intuitive:"
   ]
  },
  {
   "cell_type": "code",
   "execution_count": null,
   "metadata": {
    "collapsed": false
   },
   "outputs": [],
   "source": [
    "xs = np.linspace(0, 2 * np.pi, 101)\n",
    "plt.plot(xs, np.sin(xs))\n",
    "plt.show()"
   ]
  },
  {
   "cell_type": "markdown",
   "metadata": {},
   "source": [
    "Again, if you want to know more, look at the documentation at their website: http://matplotlib.org/"
   ]
  },
  {
   "cell_type": "markdown",
   "metadata": {},
   "source": [
    "## How to make scientific python efficient"
   ]
  },
  {
   "cell_type": "markdown",
   "metadata": {},
   "source": [
    "Python is an interpreted language. It would thus seem that it will never be able to compete in efficiency with a compiled language thus as C\n",
    "\n",
    "*This is not true!*\n",
    "\n",
    "The key is, as always, to identify which parts of your program take most of the time. Those parts typically consist of\n",
    "only relatively few lines of code. For those, you should indeed not use pure python, but preferentially something in C. But this means not you need to write your own C-module for python, but use for example something like numpy or scipy that have C-based code included.\n",
    "\n",
    "Let's consider an example:"
   ]
  },
  {
   "cell_type": "code",
   "execution_count": null,
   "metadata": {
    "collapsed": false
   },
   "outputs": [],
   "source": [
    "%%timeit\n",
    "N=1000\n",
    "a = np.ones(shape=(N, N), dtype=\"float64\")\n",
    "\n",
    "for i in xrange(N):\n",
    "    for j in xrange(N):\n",
    "        a[i, j] += 1.2"
   ]
  },
  {
   "cell_type": "code",
   "execution_count": null,
   "metadata": {
    "collapsed": false
   },
   "outputs": [],
   "source": [
    "%%timeit\n",
    "N=1000\n",
    "a = np.ones(shape=(N, N), dtype=\"float64\")\n",
    "\n",
    "a += 1.2"
   ]
  },
  {
   "cell_type": "markdown",
   "metadata": {},
   "source": [
    "(By the way, did you notice the beauty of IPython notebooks here? Adding a little cell magic like ``%%timeit`` does a beautiful job in timing our code!)"
   ]
  },
  {
   "cell_type": "markdown",
   "metadata": {},
   "source": [
    "What is the lesson here? Avoid nested python loops if you want to get performance, but rather try to rely on e.g. ``numpy`` to do the loops internally efficiently. ``numpy`` for example has a huge set of functionality that lets one to \"numpify\" very many python constructs. This is beyond the scope if this short introduction, but you can at least get a general idea."
   ]
  },
  {
   "cell_type": "markdown",
   "metadata": {},
   "source": [
    "If you ever encounter a problem that you cannot solve using ``numpy``/... then you can write an optimized, compiled module yourself. You need not do this in pure C (writing a python module in pure C is somewhat cumbersome as there's lots of boring book-keeping), but you can also use intermediate constructs such as cython (http://www.cython.org) or numba (http://numba.pydata.org/ - that one is doing similar tricks to julia) that build on python."
   ]
  },
  {
   "cell_type": "markdown",
   "metadata": {},
   "source": [
    "In that way, you can keep the majority of your code (that is typically not time-critical) in pure python. This typically leads to more readable and less code."
   ]
  },
  {
   "cell_type": "code",
   "execution_count": null,
   "metadata": {
    "collapsed": false
   },
   "outputs": [],
   "source": []
  }
 ],
 "metadata": {},
 "nbformat": 4,
 "nbformat_minor": 0
}