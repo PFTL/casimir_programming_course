{
 "cells": [
  {
   "cell_type": "markdown",
   "metadata": {},
   "source": [
    "# List of projects for day 1\n",
    "\n",
    "## Project Euler\n",
    "\n",
    "Go to https://projecteuler.net/. It's a website offering a collection of mathy programming challenges, starting from very simple ones and ending with very hard ones. The first 10-20 problems are a great playground for playing with a new programming language. The problems above 50-100 require advanced knowledge of math and algorithms.\n",
    "\n",
    "## email/twitter bot\n",
    "\n",
    "Most of the things you know are programmable. As an example projects, write a program that would get or send email messages, or perhaps make posts in twitter.\n",
    "\n",
    "## arxiv\n",
    "\n",
    "Can you count who authored the most papers on e.g. http://arxiv.org/archive/cond-mat in the last month?"
   ]
  }
 ],
 "metadata": {
  "kernelspec": {
   "display_name": "Python 3",
   "language": "python",
   "name": "python3"
  },
  "language_info": {
   "codemirror_mode": {
    "name": "ipython",
    "version": 3
   },
   "file_extension": ".py",
   "mimetype": "text/x-python",
   "name": "python",
   "nbconvert_exporter": "python",
   "pygments_lexer": "ipython3",
   "version": "3.4.3"
  }
 },
 "nbformat": 4,
 "nbformat_minor": 0
}
