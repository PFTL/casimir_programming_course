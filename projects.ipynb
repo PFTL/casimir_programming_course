{
 "cells": [
  {
   "cell_type": "markdown",
   "metadata": {},
   "source": [
    "# List of projects for day 1\n",
    "\n",
    "## Project Euler\n",
    "\n",
    "Go to https://projecteuler.net/. It's a website offering a collection of mathy programming challenges, starting from very simple ones and ending with very hard ones. The first 10-20 problems are a great playground for playing with a new programming language. The problems above 50-100 require advanced knowledge of math and algorithms.\n",
    "\n",
    "\n",
    "## Loading and plotting 2D data in various ways\n",
    "\n",
    "In this exercise you will use python to read (real!) data from a file, and plot it in various ways. For this you will use the python packages [numpy](http://docs.scipy.org/doc/numpy/) and [matplotlib](http://matplotlib.org/contents.html).\n",
    "\n",
    "In particular, you will work with 2D data, i.e. data that depends on two parameters. Such data is often stored using three arrays: Two 1D arrays ``X`` and ``Y``, and one 2D array ``C`` such that for the parameters ``X[i]`` and ``Y[j]`` the data is stored in ``C[j, i]`` (Note the order of ``i`` and ``j`` here - in this convention the x-coordinate in the matrix is along the rows, i.e.  varying the column index).\n",
    "\n",
    "In this exercise, you will work with two sets of 2D data, ``Rxx`` and ``RH``, that depend on the same parameters (For those who are interested, I give a background below. It's not necessary to understand that background, though). \n",
    "\n",
    "Depending on your ambition, you can load the data in an easy way (where we did the work for you), or doing it the harder way from the raw data. \n",
    "\n",
    "#### Easy way \n",
    "\n",
    "The files [X.dat](https://gitlab.com/anton-akhmerov/casimir_programming_course/raw/master/exercises/X.dat) and [Y.dat](https://gitlab.com/anton-akhmerov/casimir_programming_course/raw/master/exercises/X.dat) contain the values of the `x` and `y` parameters, and [Rxx.dat](https://gitlab.com/anton-akhmerov/casimir_programming_course/raw/master/exercises/Rxx.dat) and [RH.dat](https://gitlab.com/anton-akhmerov/casimir_programming_course/raw/master/exercises/RH.dat) are the two different sets of data for the same parameters. Those files are formatted in a way that you can simply load them with ``numpy.loadtxt``. \n",
    "\n",
    "#### Harder way\n",
    "\n",
    "The file [landaufan.dat](https://gitlab.com/anton-akhmerov/casimir_programming_course/raw/master/exercises/landaufan.dat) contains the raw data. The first column is the `x` parameter, the second column is the `y` parameter, the fourth column is ``Rxx``, and the fifth column is ``RH``. \n",
    "\n",
    "There are also rows without data, such as comment lines starting with a ``#``. Read the data from the file, and make a 2D numpy array for ``Rxx`` and ``RH``.\n",
    "\n",
    "#### Tasks\n",
    "\n",
    "* Load the data\n",
    "* Make a 2D plot of the data using ``matplotlib``. Check the functions ``pcolor``, ``pcolormesh`` and ``imshow``\n",
    "* Plot linecuts through the data, i.e. depending only on one parameter, keeping the other parameter fixed\n",
    "* Plot a set of line cuts in one plot (use loops)\n",
    "* Plot line cuts from both data sets into one plot\n",
    "* Plot the data as is or divided by 12906.\n",
    "* Be creative!\n",
    "\n",
    "#### Physics background\n",
    "\n",
    "The data was measured by Arjan Beukmann. He measured the longitudinal resistance (``Rxx`` in units of Ohms) and the Hall resistance (``RH`` in units of Ohms) as a function of gate voltage (``X``) and magnetic field (``Y`` in Tesla).\n",
    "\n",
    "\n",
    "## Processing data\n",
    "\n",
    "The following ten data sets contain different ``Rxx`` as a function of ``B``. ``B`` is\n",
    "stored in the first column, ``Rxx`` is stored in the fourth column:\n",
    "\n",
    "[SdH1.dat](https://gitlab.com/anton-akhmerov/casimir_programming_course/raw/master/exercises/SdH1.dat), [SdH2.dat](https://gitlab.com/anton-akhmerov/casimir_programming_course/raw/master/exercises/SdH2.dat), [SdH3.dat](https://gitlab.com/anton-akhmerov/casimir_programming_course/raw/master/exercises/SdH3.dat), [SdH4.dat](https://gitlab.com/anton-akhmerov/casimir_programming_course/raw/master/exercises/SdH4.dat), [SdH5.dat](https://gitlab.com/anton-akhmerov/casimir_programming_course/raw/master/exercises/SdH5.dat), [SdH6.dat](https://gitlab.com/anton-akhmerov/casimir_programming_course/raw/master/exercises/SdH6.dat), [SdH7.dat](https://gitlab.com/anton-akhmerov/casimir_programming_course/raw/master/exercises/SdH7.dat), [SdH8.dat](https://gitlab.com/anton-akhmerov/casimir_programming_course/raw/master/exercises/SdH8.dat), [SdH9.dat](https://gitlab.com/anton-akhmerov/casimir_programming_course/raw/master/exercises/SdH9.dat), [SdH10.dat](https://gitlab.com/anton-akhmerov/casimir_programming_course/raw/master/exercises/SdH10.dat)\n",
    "\n",
    "#### Tasks\n",
    "\n",
    "* Read the data into numpy arrays\n",
    "* Compute the Fourier transform of ``Rxx`` as a function of ``1/B`` for one data set. Use various ranges of ``B`` (e.g. only for ``B>0.2``)\n",
    "* Harder: Do this for all data sets and combine all 10 data sets into a 2D plot. (The data sets have different length, so this is not straight-forward)\n",
    "\n",
    "#### Physics background\n",
    "\n",
    "The data was measured by Arjan Beukmann. He measured the longitudinal resistance (``Rxx`` in units of Ohms) as a function of magnetic field (``B`` in Tesla).\n",
    "\n",
    "\n",
    "## email/twitter bot\n",
    "\n",
    "Most of the things you know are programmable. As an example projects, write a program that would get or send email messages, or perhaps make posts in twitter.\n",
    "\n",
    "\n",
    "## arxiv\n",
    "\n",
    "Can you count who authored the most papers on e.g. http://arxiv.org/archive/cond-mat in the last month?"
   ]
  },
  {
   "cell_type": "code",
   "execution_count": null,
   "metadata": {
    "collapsed": true
   },
   "outputs": [],
   "source": []
  }
 ],
 "metadata": {
  "kernelspec": {
   "display_name": "Python 2",
   "language": "python",
   "name": "python2"
  },
  "language_info": {
   "codemirror_mode": {
    "name": "ipython",
    "version": 2
   },
   "file_extension": ".py",
   "mimetype": "text/x-python",
   "name": "python",
   "nbconvert_exporter": "python",
   "pygments_lexer": "ipython2",
   "version": "2.7.9"
  }
 },
 "nbformat": 4,
 "nbformat_minor": 0
}
