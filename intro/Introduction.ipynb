{
 "cells": [
  {
   "cell_type": "markdown",
   "metadata": {
    "slideshow": {
     "slide_type": "slide"
    }
   },
   "source": [
    "# Why this course exists"
   ]
  },
  {
   "cell_type": "markdown",
   "metadata": {
    "slideshow": {
     "slide_type": "fragment"
    }
   },
   "source": [
    "* Programming, and especially programming *efficiently* improves research efficiency and quality for an overwhelming majority of researchers"
   ]
  },
  {
   "cell_type": "markdown",
   "metadata": {
    "slideshow": {
     "slide_type": "fragment"
    }
   },
   "source": [
    "* Good programming practices are not a common part of the physics curriculum"
   ]
  },
  {
   "cell_type": "markdown",
   "metadata": {
    "slideshow": {
     "slide_type": "fragment"
    }
   },
   "source": [
    "* There is an accumulated evidence that intensive courses similar to this one help people to improve their software workflow."
   ]
  },
  {
   "cell_type": "markdown",
   "metadata": {
    "slideshow": {
     "slide_type": "fragment"
    }
   },
   "source": [
    "* Our course is strongly influenced by other existing initiatives, especially [Software Carpentry](https://software-carpentry.org/). It also has a lot of adjustments (topic selection, duration, workflow) that should suit our local needs"
   ]
  },
  {
   "cell_type": "markdown",
   "metadata": {
    "slideshow": {
     "slide_type": "slide"
    }
   },
   "source": [
    "# Who we are\n",
    "\n",
    "Current course team:\n",
    "* Michael Wimmer\n",
    "* Joe Weston\n",
    "* Anton Akhmerov\n",
    "* Damaz de Jong\n",
    "* Rafał Skolasinski\n",
    "* Adriaan Rol\n"
   ]
  },
  {
   "cell_type": "markdown",
   "metadata": {
    "slideshow": {
     "slide_type": "slide"
    }
   },
   "source": [
    "# The learning goals of this course\n",
    "\n",
    "The skills of course participants vary greatly\n",
    "\n",
    "![skills of course participants](skills.png)"
   ]
  },
  {
   "cell_type": "markdown",
   "metadata": {
    "slideshow": {
     "slide_type": "subslide"
    }
   },
   "source": [
    "...So do the end goals:\n",
    "\n",
    "* General programming (debugging, structuring code, efficiency)\n",
    "* Python (basic or advanced)\n",
    "* Data analysis\n",
    "* Hardware\n",
    "* HPC (parallel, multiple programming languages)\n",
    "* Scientific Python (plotting)\n",
    "* Shell\n",
    "* Specialized topics (machine learning, GIS)\n",
    "* Version control (+contributing to other software)"
   ]
  },
  {
   "cell_type": "markdown",
   "metadata": {
    "slideshow": {
     "slide_type": "subslide"
    }
   },
   "source": [
    "## Our constraints\n",
    "\n",
    "* For some of you everything will be new, for some everything will be obvious\n",
    "* A week is not enough time to learn anything in depth"
   ]
  },
  {
   "cell_type": "markdown",
   "metadata": {
    "slideshow": {
     "slide_type": "subslide"
    }
   },
   "source": [
    "## The course goal\n",
    "\n",
    "* **Inform** everyone about programming tools and practices that can help your research.\n",
    "* Provide **entry-level practical skill** in each of those tools and practices.\n",
    "* Give enough information for participants to **continue learning on their own**.\n",
    "* Provide participants an opportunity to ask questions and **discuss open problems**"
   ]
  },
  {
   "cell_type": "markdown",
   "metadata": {
    "slideshow": {
     "slide_type": "slide"
    }
   },
   "source": [
    "# How the course is organized\n",
    "\n",
    "* To ensure that everyone has the same environment we provide a computational server: https://programming-course.quantumtinkerer.tudelft.nl  \n",
    "  We use it to configure and distribute course materials"
   ]
  },
  {
   "cell_type": "markdown",
   "metadata": {
    "slideshow": {
     "slide_type": "subslide"
    }
   },
   "source": [
    "* Every day we will introduce the topics in a lecture with pauses for you to try things on your own and to solve exercises. After the lecture you will have time to practice what you learned.\n",
    "* Find a partner with a similar programming skill (do it after this introduction). Solve the problems in pairs, and discuss."
   ]
  },
  {
   "cell_type": "markdown",
   "metadata": {
    "slideshow": {
     "slide_type": "subslide"
    }
   },
   "source": [
    "* **Post-its**: Stick the **green** post-it to your laptop when you are done with the task. Stick the **red** post-it to your laptop if you have a problem. Stick the **orange** one when you have a question.  \n",
    "  At the end of the day write what you liked on the green post-it, what you didn't like on the red one, and your suggestions on the orange one."
   ]
  },
  {
   "cell_type": "markdown",
   "metadata": {
    "slideshow": {
     "slide_type": "slide"
    }
   },
   "source": [
    "# How you can help\n",
    "\n",
    "* Leave feedback, contribute ideas (the course materials and issue tracker are located at https://gitlab.kwant-project.org/pc/casimir_programming_course)\n",
    "* Volunteer as an instructor for this course next year\n",
    "* We want to organize programming office hours, join as a volunteer\n",
    "* (Delft PhDs) become a TA in the \"computational science\" course that will be taught in Python next year"
   ]
  }
 ],
 "metadata": {
  "celltoolbar": "Slideshow",
  "kernelspec": {
   "display_name": "Python 3",
   "language": "python",
   "name": "python3"
  },
  "language_info": {
   "codemirror_mode": {
    "name": "ipython",
    "version": 3
   },
   "file_extension": ".py",
   "mimetype": "text/x-python",
   "name": "python",
   "nbconvert_exporter": "python",
   "pygments_lexer": "ipython3",
   "version": "3.6.3"
  }
 },
 "nbformat": 4,
 "nbformat_minor": 2
}
